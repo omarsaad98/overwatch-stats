{
 "cells": [
  {
   "cell_type": "code",
   "execution_count": 1,
   "id": "d3debaf9",
   "metadata": {},
   "outputs": [],
   "source": [
    "import pandas as pd\n",
    "import plotly.express as px"
   ]
  },
  {
   "cell_type": "code",
   "execution_count": 7,
   "id": "3d7500a5",
   "metadata": {},
   "outputs": [],
   "source": [
    "INPUTS = [\"PC\", \"Controller\"]\n",
    "MAPS = [\"all-maps\"]  # Can be extended with specific map names\n",
    "REGIONS = [\"Europe\", \"US\", \"Asia\"]\n",
    "ROLES = [\"All\", \"Damage\", \"Tank\", \"Support\"]\n",
    "RQ_OPTIONS = [0, 1]  # Role queue flag\n",
    "TIERS = [\"All\", \"Bronze\", \"Silver\", \"Gold\", \"Platinum\", \"Diamond\", \"Master\", \"Grandmaster\"]\n",
    "\n",
    "def load_stats_data(input_type=\"PC\", map_name=\"all-maps\", region=\"Europe\", role=\"All\", rq=1, tier=\"All\"):\n",
    "    \"\"\"\n",
    "    Load Overwatch 2 hero statistics data from a CSV file based on specified parameters.\n",
    "    \n",
    "    Args:\n",
    "        input_type (str): Input device type (\"PC\" or \"Controller\")\n",
    "        map_name (str): Map name or \"all-maps\"\n",
    "        region (str): Region (\"Europe\", \"US\", or \"Asia\")\n",
    "        role (str): Hero role (\"All\", \"Damage\", \"Tank\", or \"Support\")\n",
    "        rq (int): Role queue flag (0 or 1)\n",
    "        tier (str): Competitive tier (\"All\", \"Bronze\", \"Silver\", \"Gold\", \"Platinum\", \"Diamond\", \"Master\", \"Grandmaster\")\n",
    "    \n",
    "    Returns:\n",
    "        pandas.DataFrame: DataFrame containing the hero statistics\n",
    "    \"\"\"\n",
    "    # Construct the filename based on parameters\n",
    "    filename = f\"stats_input-{input_type.lower()}_map-{map_name.lower()}_region-{region.lower()}_role-{role.lower()}_rq-{rq}_tier-{tier.lower()}.csv\"\n",
    "    filepath = f\"data/{filename}\"\n",
    "    \n",
    "    try:\n",
    "        # Read the CSV file into a pandas DataFrame\n",
    "        df = pd.read_csv(filepath)\n",
    "        return df\n",
    "    except FileNotFoundError:\n",
    "        print(f\"Error: File not found - {filepath}\")\n",
    "        return None\n",
    "    except Exception as e:\n",
    "        print(f\"Error loading data: {e}\")\n",
    "        return None\n"
   ]
  },
  {
   "cell_type": "code",
   "execution_count": 40,
   "id": "89d1c3dd",
   "metadata": {},
   "outputs": [
    {
     "name": "stdout",
     "output_type": "stream",
     "text": [
      "Loading data for tier: All\n",
      "- Loading data for hero: ana\n",
      "{'winrate': 48.5, 'pick_rate': 29.9, 'hero_name': 'Ana', 'hero_color': '#48699E'}\n",
      "- Loading data for hero: ashe\n",
      "{'winrate': 50.2, 'pick_rate': 12.4, 'hero_name': 'Ashe', 'hero_color': '#3E3C3A'}\n",
      "- Loading data for hero: baptiste\n",
      "{'winrate': 46.9, 'pick_rate': 9.2, 'hero_name': 'Baptiste', 'hero_color': '#28A5C3'}\n",
      "- Loading data for hero: bastion\n",
      "{'winrate': 46.5, 'pick_rate': 10.1, 'hero_name': 'Bastion', 'hero_color': '#5B7351'}\n",
      "- Loading data for hero: brigitte\n",
      "{'winrate': 47.8, 'pick_rate': 3.7, 'hero_name': 'Brigitte', 'hero_color': '#72332A'}\n",
      "- Loading data for hero: cassidy\n",
      "{'winrate': 47.9, 'pick_rate': 30.2, 'hero_name': 'Cassidy', 'hero_color': '#A62927'}\n",
      "- Loading data for hero: dva\n",
      "{'winrate': 48.5, 'pick_rate': 10.5, 'hero_name': 'D.Va', 'hero_color': '#FC79BD'}\n",
      "- Loading data for hero: doomfist\n",
      "{'winrate': 54.6, 'pick_rate': 7.8, 'hero_name': 'Doomfist', 'hero_color': '#661E0F'}\n",
      "- Loading data for hero: echo\n",
      "{'winrate': 48.8, 'pick_rate': 4.8, 'hero_name': 'Echo', 'hero_color': '#89C8FF'}\n",
      "- Loading data for hero: freja\n",
      "{'winrate': 45.9, 'pick_rate': 5.2, 'hero_name': 'Freja', 'hero_color': '#3F93FF'}\n",
      "- Loading data for hero: genji\n",
      "{'winrate': 55.7, 'pick_rate': 19.9, 'hero_name': 'Genji', 'hero_color': '#80FB00'}\n",
      "- Loading data for hero: hanzo\n",
      "{'winrate': 52.4, 'pick_rate': 15.6, 'hero_name': 'Hanzo', 'hero_color': '#B2A865'}\n",
      "- Loading data for hero: hazard\n",
      "{'winrate': 51.7, 'pick_rate': 3.8, 'hero_name': 'Hazard', 'hero_color': '#985EC0'}\n",
      "- Loading data for hero: illari\n",
      "{'winrate': 50.5, 'pick_rate': 6.1, 'hero_name': 'Illari', 'hero_color': '#A58C54'}\n",
      "- Loading data for hero: junker-queen\n",
      "{'winrate': 54.9, 'pick_rate': 6.7, 'hero_name': 'Junker Queen', 'hero_color': '#579FCF'}\n",
      "- Loading data for hero: junkrat\n",
      "{'winrate': 46.4, 'pick_rate': 8.7, 'hero_name': 'Junkrat', 'hero_color': '#F7B217'}\n",
      "- Loading data for hero: juno\n",
      "{'winrate': 49.2, 'pick_rate': 14.4, 'hero_name': 'Juno', 'hero_color': '#721FA3'}\n",
      "- Loading data for hero: kiriko\n",
      "{'winrate': 46.1, 'pick_rate': 28.0, 'hero_name': 'Kiriko', 'hero_color': '#D04656'}\n",
      "- Loading data for hero: lifeweaver\n",
      "{'winrate': 44.5, 'pick_rate': 9.9, 'hero_name': 'Lifeweaver', 'hero_color': '#E1A5BA'}\n",
      "- Loading data for hero: lucio\n",
      "{'winrate': 54.5, 'pick_rate': 8.3, 'hero_name': 'Lúcio', 'hero_color': '#67C519'}\n",
      "- Loading data for hero: mauga\n",
      "{'winrate': 47.8, 'pick_rate': 4.5, 'hero_name': 'Mauga', 'hero_color': '#DB4216'}\n",
      "- Loading data for hero: mei\n",
      "{'winrate': 47.4, 'pick_rate': 7.9, 'hero_name': 'Mei', 'hero_color': '#469AF0'}\n",
      "- Loading data for hero: mercy\n",
      "{'winrate': 51.4, 'pick_rate': 25.7, 'hero_name': 'Mercy', 'hero_color': '#FAF2AD'}\n",
      "- Loading data for hero: moira\n",
      "{'winrate': 45.8, 'pick_rate': 23.4, 'hero_name': 'Moira', 'hero_color': '#804BE5'}\n",
      "- Loading data for hero: orisa\n",
      "{'winrate': 43.0, 'pick_rate': 11.7, 'hero_name': 'Orisa', 'hero_color': '#106F04'}\n",
      "- Loading data for hero: pharah\n",
      "{'winrate': 50.2, 'pick_rate': 4.8, 'hero_name': 'Pharah', 'hero_color': '#58BCFF'}\n",
      "- Loading data for hero: ramattra\n",
      "{'winrate': 46.6, 'pick_rate': 9.5, 'hero_name': 'Ramattra', 'hero_color': '#7D55C7'}\n",
      "- Loading data for hero: reaper\n",
      "{'winrate': 52.3, 'pick_rate': 10.9, 'hero_name': 'Reaper', 'hero_color': '#5E001A'}\n",
      "- Loading data for hero: reinhardt\n",
      "{'winrate': 55.2, 'pick_rate': 16.1, 'hero_name': 'Reinhardt', 'hero_color': '#7C8B8C'}\n",
      "- Loading data for hero: roadhog\n",
      "{'winrate': 38.4, 'pick_rate': 6.1, 'hero_name': 'Roadhog', 'hero_color': '#AE6F1C'}\n",
      "- Loading data for hero: sigma\n",
      "{'winrate': 51.3, 'pick_rate': 10.3, 'hero_name': 'Sigma', 'hero_color': '#7C8B8C'}\n",
      "- Loading data for hero: sojourn\n",
      "{'winrate': 45.9, 'pick_rate': 18.2, 'hero_name': 'Sojourn', 'hero_color': '#D73E2C'}\n",
      "- Loading data for hero: soldier-76\n",
      "{'winrate': 48.9, 'pick_rate': 20.1, 'hero_name': 'Soldier: 76', 'hero_color': '#445275'}\n",
      "- Loading data for hero: sombra\n",
      "{'winrate': 47.7, 'pick_rate': 3.2, 'hero_name': 'Sombra', 'hero_color': '#5128A9'}\n",
      "- Loading data for hero: symmetra\n",
      "{'winrate': 51.6, 'pick_rate': 4.1, 'hero_name': 'Symmetra', 'hero_color': '#76B4C9'}\n",
      "- Loading data for hero: torbjorn\n",
      "{'winrate': 48.9, 'pick_rate': 4.4, 'hero_name': 'Torbjörn', 'hero_color': '#BA4C3F'}\n",
      "- Loading data for hero: tracer\n",
      "{'winrate': 52.1, 'pick_rate': 9.1, 'hero_name': 'Tracer', 'hero_color': '#DE7A00'}\n",
      "- Loading data for hero: venture\n",
      "{'winrate': 52.6, 'pick_rate': 5.0, 'hero_name': 'Venture', 'hero_color': '#79614E'}\n",
      "- Loading data for hero: widowmaker\n",
      "{'winrate': 48.4, 'pick_rate': 5.7, 'hero_name': 'Widowmaker', 'hero_color': '#8B3F8F'}\n",
      "- Loading data for hero: winston\n",
      "{'winrate': 50.0, 'pick_rate': 5.7, 'hero_name': 'Winston', 'hero_color': '#8F92AE'}\n",
      "- Loading data for hero: wrecking-ball\n",
      "{'winrate': 57.3, 'pick_rate': 1.7, 'hero_name': 'Wrecking Ball', 'hero_color': '#E2790A'}\n",
      "- Loading data for hero: wuyang\n",
      "{'winrate': 56.3, 'pick_rate': 33.2, 'hero_name': 'Wuyang', 'hero_color': '#4C7FEF'}\n",
      "- Loading data for hero: zarya\n",
      "{'winrate': 49.4, 'pick_rate': 5.6, 'hero_name': 'Zarya', 'hero_color': '#F65EA6'}\n",
      "- Loading data for hero: zenyatta\n",
      "{'winrate': 52.0, 'pick_rate': 8.3, 'hero_name': 'Zenyatta', 'hero_color': '#FCEE5A'}\n",
      "Loading data for tier: Bronze\n",
      "- Loading data for hero: ana\n",
      "{'winrate': 46.0, 'pick_rate': 14.4, 'hero_name': 'Ana', 'hero_color': '#48699E'}\n",
      "- Loading data for hero: ashe\n",
      "{'winrate': 53.6, 'pick_rate': 14.6, 'hero_name': 'Ashe', 'hero_color': '#3E3C3A'}\n",
      "- Loading data for hero: baptiste\n",
      "{'winrate': 48.3, 'pick_rate': 6.4, 'hero_name': 'Baptiste', 'hero_color': '#28A5C3'}\n",
      "- Loading data for hero: bastion\n",
      "{'winrate': 51.7, 'pick_rate': 17.6, 'hero_name': 'Bastion', 'hero_color': '#5B7351'}\n",
      "- Loading data for hero: brigitte\n",
      "{'winrate': 42.6, 'pick_rate': 2.1, 'hero_name': 'Brigitte', 'hero_color': '#72332A'}\n",
      "- Loading data for hero: cassidy\n",
      "{'winrate': 47.8, 'pick_rate': 18.8, 'hero_name': 'Cassidy', 'hero_color': '#A62927'}\n",
      "- Loading data for hero: dva\n",
      "{'winrate': 46.7, 'pick_rate': 17.2, 'hero_name': 'D.Va', 'hero_color': '#FC79BD'}\n",
      "- Loading data for hero: doomfist\n",
      "{'winrate': 48.8, 'pick_rate': 4.5, 'hero_name': 'Doomfist', 'hero_color': '#661E0F'}\n",
      "- Loading data for hero: echo\n",
      "{'winrate': 41.2, 'pick_rate': 6.5, 'hero_name': 'Echo', 'hero_color': '#89C8FF'}\n",
      "- Loading data for hero: freja\n",
      "{'winrate': 47.5, 'pick_rate': 5.8, 'hero_name': 'Freja', 'hero_color': '#3F93FF'}\n",
      "- Loading data for hero: genji\n",
      "{'winrate': 52.8, 'pick_rate': 11.5, 'hero_name': 'Genji', 'hero_color': '#80FB00'}\n",
      "- Loading data for hero: hanzo\n",
      "{'winrate': 52.1, 'pick_rate': 16.4, 'hero_name': 'Hanzo', 'hero_color': '#B2A865'}\n",
      "- Loading data for hero: hazard\n",
      "{'winrate': 51.6, 'pick_rate': 2.7, 'hero_name': 'Hazard', 'hero_color': '#985EC0'}\n",
      "- Loading data for hero: illari\n",
      "{'winrate': 49.0, 'pick_rate': 7.9, 'hero_name': 'Illari', 'hero_color': '#A58C54'}\n",
      "- Loading data for hero: junker-queen\n",
      "{'winrate': 57.0, 'pick_rate': 5.1, 'hero_name': 'Junker Queen', 'hero_color': '#579FCF'}\n",
      "- Loading data for hero: junkrat\n",
      "{'winrate': 47.7, 'pick_rate': 17.3, 'hero_name': 'Junkrat', 'hero_color': '#F7B217'}\n",
      "- Loading data for hero: juno\n",
      "{'winrate': 46.9, 'pick_rate': 18.0, 'hero_name': 'Juno', 'hero_color': '#721FA3'}\n",
      "- Loading data for hero: kiriko\n",
      "{'winrate': 49.8, 'pick_rate': 28.1, 'hero_name': 'Kiriko', 'hero_color': '#D04656'}\n",
      "- Loading data for hero: lifeweaver\n",
      "{'winrate': 45.9, 'pick_rate': 11.5, 'hero_name': 'Lifeweaver', 'hero_color': '#E1A5BA'}\n",
      "- Loading data for hero: lucio\n",
      "{'winrate': 50.5, 'pick_rate': 10.9, 'hero_name': 'Lúcio', 'hero_color': '#67C519'}\n",
      "- Loading data for hero: mauga\n",
      "{'winrate': 48.7, 'pick_rate': 5.9, 'hero_name': 'Mauga', 'hero_color': '#DB4216'}\n",
      "- Loading data for hero: mei\n",
      "{'winrate': 49.5, 'pick_rate': 6.8, 'hero_name': 'Mei', 'hero_color': '#469AF0'}\n",
      "- Loading data for hero: mercy\n",
      "{'winrate': 51.0, 'pick_rate': 37.0, 'hero_name': 'Mercy', 'hero_color': '#FAF2AD'}\n",
      "- Loading data for hero: moira\n",
      "{'winrate': 48.8, 'pick_rate': 30.0, 'hero_name': 'Moira', 'hero_color': '#804BE5'}\n",
      "- Loading data for hero: orisa\n",
      "{'winrate': 43.9, 'pick_rate': 16.9, 'hero_name': 'Orisa', 'hero_color': '#106F04'}\n",
      "- Loading data for hero: pharah\n",
      "{'winrate': 49.0, 'pick_rate': 6.1, 'hero_name': 'Pharah', 'hero_color': '#58BCFF'}\n",
      "- Loading data for hero: ramattra\n",
      "{'winrate': 52.9, 'pick_rate': 13.3, 'hero_name': 'Ramattra', 'hero_color': '#7D55C7'}\n",
      "- Loading data for hero: reaper\n",
      "{'winrate': 56.2, 'pick_rate': 9.9, 'hero_name': 'Reaper', 'hero_color': '#5E001A'}\n",
      "- Loading data for hero: reinhardt\n",
      "{'winrate': 56.8, 'pick_rate': 12.7, 'hero_name': 'Reinhardt', 'hero_color': '#7C8B8C'}\n",
      "- Loading data for hero: roadhog\n",
      "{'winrate': 38.2, 'pick_rate': 5.8, 'hero_name': 'Roadhog', 'hero_color': '#AE6F1C'}\n",
      "- Loading data for hero: sigma\n",
      "{'winrate': 51.1, 'pick_rate': 10.2, 'hero_name': 'Sigma', 'hero_color': '#7C8B8C'}\n",
      "- Loading data for hero: sojourn\n",
      "{'winrate': 42.9, 'pick_rate': 17.3, 'hero_name': 'Sojourn', 'hero_color': '#D73E2C'}\n",
      "- Loading data for hero: soldier-76\n",
      "{'winrate': 47.8, 'pick_rate': 21.0, 'hero_name': 'Soldier: 76', 'hero_color': '#445275'}\n",
      "- Loading data for hero: sombra\n",
      "{'winrate': 48.8, 'pick_rate': 2.8, 'hero_name': 'Sombra', 'hero_color': '#5128A9'}\n",
      "- Loading data for hero: symmetra\n",
      "{'winrate': 59.2, 'pick_rate': 3.5, 'hero_name': 'Symmetra', 'hero_color': '#76B4C9'}\n",
      "- Loading data for hero: torbjorn\n",
      "{'winrate': 49.1, 'pick_rate': 6.6, 'hero_name': 'Torbjörn', 'hero_color': '#BA4C3F'}\n",
      "- Loading data for hero: tracer\n",
      "{'winrate': 55.0, 'pick_rate': 5.0, 'hero_name': 'Tracer', 'hero_color': '#DE7A00'}\n",
      "- Loading data for hero: venture\n",
      "{'winrate': 57.4, 'pick_rate': 4.0, 'hero_name': 'Venture', 'hero_color': '#79614E'}\n",
      "- Loading data for hero: widowmaker\n",
      "{'winrate': 46.2, 'pick_rate': 8.6, 'hero_name': 'Widowmaker', 'hero_color': '#8B3F8F'}\n",
      "- Loading data for hero: winston\n",
      "{'winrate': 51.8, 'pick_rate': 3.0, 'hero_name': 'Winston', 'hero_color': '#8F92AE'}\n",
      "- Loading data for hero: wrecking-ball\n",
      "{'winrate': 64.8, 'pick_rate': 0.8, 'hero_name': 'Wrecking Ball', 'hero_color': '#E2790A'}\n",
      "- Loading data for hero: wuyang\n",
      "{'winrate': 55.0, 'pick_rate': 25.1, 'hero_name': 'Wuyang', 'hero_color': '#4C7FEF'}\n",
      "- Loading data for hero: zarya\n",
      "{'winrate': 54.0, 'pick_rate': 2.1, 'hero_name': 'Zarya', 'hero_color': '#F65EA6'}\n",
      "- Loading data for hero: zenyatta\n",
      "{'winrate': 53.9, 'pick_rate': 8.6, 'hero_name': 'Zenyatta', 'hero_color': '#FCEE5A'}\n",
      "Loading data for tier: Silver\n",
      "- Loading data for hero: ana\n",
      "{'winrate': 47.3, 'pick_rate': 20.8, 'hero_name': 'Ana', 'hero_color': '#48699E'}\n",
      "- Loading data for hero: ashe\n",
      "{'winrate': 51.1, 'pick_rate': 13.4, 'hero_name': 'Ashe', 'hero_color': '#3E3C3A'}\n",
      "- Loading data for hero: baptiste\n",
      "{'winrate': 45.3, 'pick_rate': 7.1, 'hero_name': 'Baptiste', 'hero_color': '#28A5C3'}\n",
      "- Loading data for hero: bastion\n",
      "{'winrate': 48.2, 'pick_rate': 15.0, 'hero_name': 'Bastion', 'hero_color': '#5B7351'}\n",
      "- Loading data for hero: brigitte\n",
      "{'winrate': 50.0, 'pick_rate': 2.7, 'hero_name': 'Brigitte', 'hero_color': '#72332A'}\n",
      "- Loading data for hero: cassidy\n",
      "{'winrate': 49.1, 'pick_rate': 22.2, 'hero_name': 'Cassidy', 'hero_color': '#A62927'}\n",
      "- Loading data for hero: dva\n",
      "{'winrate': 47.4, 'pick_rate': 13.3, 'hero_name': 'D.Va', 'hero_color': '#FC79BD'}\n",
      "- Loading data for hero: doomfist\n",
      "{'winrate': 55.5, 'pick_rate': 5.3, 'hero_name': 'Doomfist', 'hero_color': '#661E0F'}\n",
      "- Loading data for hero: echo\n",
      "{'winrate': 48.0, 'pick_rate': 5.2, 'hero_name': 'Echo', 'hero_color': '#89C8FF'}\n",
      "- Loading data for hero: freja\n",
      "{'winrate': 44.8, 'pick_rate': 6.0, 'hero_name': 'Freja', 'hero_color': '#3F93FF'}\n",
      "- Loading data for hero: genji\n",
      "{'winrate': 56.0, 'pick_rate': 13.9, 'hero_name': 'Genji', 'hero_color': '#80FB00'}\n",
      "- Loading data for hero: hanzo\n",
      "{'winrate': 51.9, 'pick_rate': 15.6, 'hero_name': 'Hanzo', 'hero_color': '#B2A865'}\n",
      "- Loading data for hero: hazard\n",
      "{'winrate': 49.9, 'pick_rate': 2.3, 'hero_name': 'Hazard', 'hero_color': '#985EC0'}\n",
      "- Loading data for hero: illari\n",
      "{'winrate': 48.1, 'pick_rate': 7.1, 'hero_name': 'Illari', 'hero_color': '#A58C54'}\n",
      "- Loading data for hero: junker-queen\n",
      "{'winrate': 52.8, 'pick_rate': 5.5, 'hero_name': 'Junker Queen', 'hero_color': '#579FCF'}\n",
      "- Loading data for hero: junkrat\n",
      "{'winrate': 46.8, 'pick_rate': 13.2, 'hero_name': 'Junkrat', 'hero_color': '#F7B217'}\n",
      "- Loading data for hero: juno\n",
      "{'winrate': 49.5, 'pick_rate': 15.0, 'hero_name': 'Juno', 'hero_color': '#721FA3'}\n",
      "- Loading data for hero: kiriko\n",
      "{'winrate': 46.7, 'pick_rate': 26.1, 'hero_name': 'Kiriko', 'hero_color': '#D04656'}\n",
      "- Loading data for hero: lifeweaver\n",
      "{'winrate': 45.5, 'pick_rate': 10.7, 'hero_name': 'Lifeweaver', 'hero_color': '#E1A5BA'}\n",
      "- Loading data for hero: lucio\n",
      "{'winrate': 55.1, 'pick_rate': 8.9, 'hero_name': 'Lúcio', 'hero_color': '#67C519'}\n",
      "- Loading data for hero: mauga\n",
      "{'winrate': 48.8, 'pick_rate': 5.6, 'hero_name': 'Mauga', 'hero_color': '#DB4216'}\n",
      "- Loading data for hero: mei\n",
      "{'winrate': 47.8, 'pick_rate': 8.3, 'hero_name': 'Mei', 'hero_color': '#469AF0'}\n",
      "- Loading data for hero: mercy\n",
      "{'winrate': 50.9, 'pick_rate': 33.3, 'hero_name': 'Mercy', 'hero_color': '#FAF2AD'}\n",
      "- Loading data for hero: moira\n",
      "{'winrate': 47.5, 'pick_rate': 30.0, 'hero_name': 'Moira', 'hero_color': '#804BE5'}\n",
      "- Loading data for hero: orisa\n",
      "{'winrate': 43.5, 'pick_rate': 15.2, 'hero_name': 'Orisa', 'hero_color': '#106F04'}\n",
      "- Loading data for hero: pharah\n",
      "{'winrate': 49.7, 'pick_rate': 5.9, 'hero_name': 'Pharah', 'hero_color': '#58BCFF'}\n",
      "- Loading data for hero: ramattra\n",
      "{'winrate': 48.9, 'pick_rate': 11.7, 'hero_name': 'Ramattra', 'hero_color': '#7D55C7'}\n",
      "- Loading data for hero: reaper\n",
      "{'winrate': 52.2, 'pick_rate': 13.6, 'hero_name': 'Reaper', 'hero_color': '#5E001A'}\n",
      "- Loading data for hero: reinhardt\n",
      "{'winrate': 57.2, 'pick_rate': 16.0, 'hero_name': 'Reinhardt', 'hero_color': '#7C8B8C'}\n",
      "- Loading data for hero: roadhog\n",
      "{'winrate': 37.4, 'pick_rate': 5.5, 'hero_name': 'Roadhog', 'hero_color': '#AE6F1C'}\n",
      "- Loading data for hero: sigma\n",
      "{'winrate': 51.4, 'pick_rate': 11.5, 'hero_name': 'Sigma', 'hero_color': '#7C8B8C'}\n",
      "- Loading data for hero: sojourn\n",
      "{'winrate': 45.6, 'pick_rate': 17.3, 'hero_name': 'Sojourn', 'hero_color': '#D73E2C'}\n",
      "- Loading data for hero: soldier-76\n",
      "{'winrate': 49.7, 'pick_rate': 22.1, 'hero_name': 'Soldier: 76', 'hero_color': '#445275'}\n",
      "- Loading data for hero: sombra\n",
      "{'winrate': 49.2, 'pick_rate': 2.4, 'hero_name': 'Sombra', 'hero_color': '#5128A9'}\n",
      "- Loading data for hero: symmetra\n",
      "{'winrate': 51.8, 'pick_rate': 4.5, 'hero_name': 'Symmetra', 'hero_color': '#76B4C9'}\n",
      "- Loading data for hero: torbjorn\n",
      "{'winrate': 50.2, 'pick_rate': 5.8, 'hero_name': 'Torbjörn', 'hero_color': '#BA4C3F'}\n",
      "- Loading data for hero: tracer\n",
      "{'winrate': 50.1, 'pick_rate': 5.5, 'hero_name': 'Tracer', 'hero_color': '#DE7A00'}\n",
      "- Loading data for hero: venture\n",
      "{'winrate': 54.3, 'pick_rate': 4.3, 'hero_name': 'Venture', 'hero_color': '#79614E'}\n",
      "- Loading data for hero: widowmaker\n",
      "{'winrate': 45.2, 'pick_rate': 5.6, 'hero_name': 'Widowmaker', 'hero_color': '#8B3F8F'}\n",
      "- Loading data for hero: winston\n",
      "{'winrate': 48.8, 'pick_rate': 3.7, 'hero_name': 'Winston', 'hero_color': '#8F92AE'}\n",
      "- Loading data for hero: wrecking-ball\n",
      "{'winrate': 53.2, 'pick_rate': 0.9, 'hero_name': 'Wrecking Ball', 'hero_color': '#E2790A'}\n",
      "- Loading data for hero: wuyang\n",
      "{'winrate': 55.8, 'pick_rate': 30.5, 'hero_name': 'Wuyang', 'hero_color': '#4C7FEF'}\n",
      "- Loading data for hero: zarya\n",
      "{'winrate': 53.8, 'pick_rate': 3.4, 'hero_name': 'Zarya', 'hero_color': '#F65EA6'}\n",
      "- Loading data for hero: zenyatta\n",
      "{'winrate': 51.3, 'pick_rate': 7.9, 'hero_name': 'Zenyatta', 'hero_color': '#FCEE5A'}\n",
      "Loading data for tier: Gold\n",
      "- Loading data for hero: ana\n",
      "{'winrate': 48.8, 'pick_rate': 28.5, 'hero_name': 'Ana', 'hero_color': '#48699E'}\n",
      "- Loading data for hero: ashe\n",
      "{'winrate': 50.0, 'pick_rate': 13.2, 'hero_name': 'Ashe', 'hero_color': '#3E3C3A'}\n",
      "- Loading data for hero: baptiste\n",
      "{'winrate': 46.1, 'pick_rate': 8.4, 'hero_name': 'Baptiste', 'hero_color': '#28A5C3'}\n",
      "- Loading data for hero: bastion\n",
      "{'winrate': 45.5, 'pick_rate': 11.3, 'hero_name': 'Bastion', 'hero_color': '#5B7351'}\n",
      "- Loading data for hero: brigitte\n",
      "{'winrate': 49.0, 'pick_rate': 3.0, 'hero_name': 'Brigitte', 'hero_color': '#72332A'}\n",
      "- Loading data for hero: cassidy\n",
      "{'winrate': 48.3, 'pick_rate': 29.2, 'hero_name': 'Cassidy', 'hero_color': '#A62927'}\n",
      "- Loading data for hero: dva\n",
      "{'winrate': 47.8, 'pick_rate': 10.1, 'hero_name': 'D.Va', 'hero_color': '#FC79BD'}\n",
      "- Loading data for hero: doomfist\n",
      "{'winrate': 56.5, 'pick_rate': 7.1, 'hero_name': 'Doomfist', 'hero_color': '#661E0F'}\n",
      "- Loading data for hero: echo\n",
      "{'winrate': 48.4, 'pick_rate': 4.5, 'hero_name': 'Echo', 'hero_color': '#89C8FF'}\n",
      "- Loading data for hero: freja\n",
      "{'winrate': 45.3, 'pick_rate': 5.3, 'hero_name': 'Freja', 'hero_color': '#3F93FF'}\n",
      "- Loading data for hero: genji\n",
      "{'winrate': 56.4, 'pick_rate': 17.8, 'hero_name': 'Genji', 'hero_color': '#80FB00'}\n",
      "- Loading data for hero: hanzo\n",
      "{'winrate': 53.2, 'pick_rate': 16.4, 'hero_name': 'Hanzo', 'hero_color': '#B2A865'}\n",
      "- Loading data for hero: hazard\n",
      "{'winrate': 51.0, 'pick_rate': 2.9, 'hero_name': 'Hazard', 'hero_color': '#985EC0'}\n",
      "- Loading data for hero: illari\n",
      "{'winrate': 50.2, 'pick_rate': 6.0, 'hero_name': 'Illari', 'hero_color': '#A58C54'}\n",
      "- Loading data for hero: junker-queen\n",
      "{'winrate': 54.7, 'pick_rate': 6.3, 'hero_name': 'Junker Queen', 'hero_color': '#579FCF'}\n",
      "- Loading data for hero: junkrat\n",
      "{'winrate': 45.8, 'pick_rate': 9.3, 'hero_name': 'Junkrat', 'hero_color': '#F7B217'}\n",
      "- Loading data for hero: juno\n",
      "{'winrate': 49.4, 'pick_rate': 14.3, 'hero_name': 'Juno', 'hero_color': '#721FA3'}\n",
      "- Loading data for hero: kiriko\n",
      "{'winrate': 45.9, 'pick_rate': 27.9, 'hero_name': 'Kiriko', 'hero_color': '#D04656'}\n",
      "- Loading data for hero: lifeweaver\n",
      "{'winrate': 44.1, 'pick_rate': 10.9, 'hero_name': 'Lifeweaver', 'hero_color': '#E1A5BA'}\n",
      "- Loading data for hero: lucio\n",
      "{'winrate': 54.8, 'pick_rate': 7.3, 'hero_name': 'Lúcio', 'hero_color': '#67C519'}\n",
      "- Loading data for hero: mauga\n",
      "{'winrate': 46.5, 'pick_rate': 4.7, 'hero_name': 'Mauga', 'hero_color': '#DB4216'}\n",
      "- Loading data for hero: mei\n",
      "{'winrate': 48.3, 'pick_rate': 8.7, 'hero_name': 'Mei', 'hero_color': '#469AF0'}\n",
      "- Loading data for hero: mercy\n",
      "{'winrate': 51.5, 'pick_rate': 26.8, 'hero_name': 'Mercy', 'hero_color': '#FAF2AD'}\n",
      "- Loading data for hero: moira\n",
      "{'winrate': 45.8, 'pick_rate': 25.7, 'hero_name': 'Moira', 'hero_color': '#804BE5'}\n",
      "- Loading data for hero: orisa\n",
      "{'winrate': 43.7, 'pick_rate': 12.6, 'hero_name': 'Orisa', 'hero_color': '#106F04'}\n",
      "- Loading data for hero: pharah\n",
      "{'winrate': 50.6, 'pick_rate': 4.9, 'hero_name': 'Pharah', 'hero_color': '#58BCFF'}\n",
      "- Loading data for hero: ramattra\n",
      "{'winrate': 46.3, 'pick_rate': 10.3, 'hero_name': 'Ramattra', 'hero_color': '#7D55C7'}\n",
      "- Loading data for hero: reaper\n",
      "{'winrate': 52.4, 'pick_rate': 12.3, 'hero_name': 'Reaper', 'hero_color': '#5E001A'}\n",
      "- Loading data for hero: reinhardt\n",
      "{'winrate': 55.9, 'pick_rate': 17.5, 'hero_name': 'Reinhardt', 'hero_color': '#7C8B8C'}\n",
      "- Loading data for hero: roadhog\n",
      "{'winrate': 38.5, 'pick_rate': 6.2, 'hero_name': 'Roadhog', 'hero_color': '#AE6F1C'}\n",
      "- Loading data for hero: sigma\n",
      "{'winrate': 51.0, 'pick_rate': 10.9, 'hero_name': 'Sigma', 'hero_color': '#7C8B8C'}\n",
      "- Loading data for hero: sojourn\n",
      "{'winrate': 46.0, 'pick_rate': 16.8, 'hero_name': 'Sojourn', 'hero_color': '#D73E2C'}\n",
      "- Loading data for hero: soldier-76\n",
      "{'winrate': 48.2, 'pick_rate': 21.4, 'hero_name': 'Soldier: 76', 'hero_color': '#445275'}\n",
      "- Loading data for hero: sombra\n",
      "{'winrate': 48.0, 'pick_rate': 2.9, 'hero_name': 'Sombra', 'hero_color': '#5128A9'}\n",
      "- Loading data for hero: symmetra\n",
      "{'winrate': 50.5, 'pick_rate': 4.5, 'hero_name': 'Symmetra', 'hero_color': '#76B4C9'}\n",
      "- Loading data for hero: torbjorn\n",
      "{'winrate': 49.1, 'pick_rate': 4.4, 'hero_name': 'Torbjörn', 'hero_color': '#BA4C3F'}\n",
      "- Loading data for hero: tracer\n",
      "{'winrate': 51.0, 'pick_rate': 6.8, 'hero_name': 'Tracer', 'hero_color': '#DE7A00'}\n",
      "- Loading data for hero: venture\n",
      "{'winrate': 52.6, 'pick_rate': 4.9, 'hero_name': 'Venture', 'hero_color': '#79614E'}\n",
      "- Loading data for hero: widowmaker\n",
      "{'winrate': 49.2, 'pick_rate': 5.4, 'hero_name': 'Widowmaker', 'hero_color': '#8B3F8F'}\n",
      "- Loading data for hero: winston\n",
      "{'winrate': 50.6, 'pick_rate': 4.8, 'hero_name': 'Winston', 'hero_color': '#8F92AE'}\n",
      "- Loading data for hero: wrecking-ball\n",
      "{'winrate': 55.8, 'pick_rate': 1.3, 'hero_name': 'Wrecking Ball', 'hero_color': '#E2790A'}\n",
      "- Loading data for hero: wuyang\n",
      "{'winrate': 56.5, 'pick_rate': 33.3, 'hero_name': 'Wuyang', 'hero_color': '#4C7FEF'}\n",
      "- Loading data for hero: zarya\n",
      "{'winrate': 48.8, 'pick_rate': 5.3, 'hero_name': 'Zarya', 'hero_color': '#F65EA6'}\n",
      "- Loading data for hero: zenyatta\n",
      "{'winrate': 52.3, 'pick_rate': 7.9, 'hero_name': 'Zenyatta', 'hero_color': '#FCEE5A'}\n",
      "Loading data for tier: Platinum\n",
      "- Loading data for hero: ana\n",
      "{'winrate': 49.0, 'pick_rate': 36.4, 'hero_name': 'Ana', 'hero_color': '#48699E'}\n",
      "- Loading data for hero: ashe\n",
      "{'winrate': 49.8, 'pick_rate': 12.0, 'hero_name': 'Ashe', 'hero_color': '#3E3C3A'}\n",
      "- Loading data for hero: baptiste\n",
      "{'winrate': 47.1, 'pick_rate': 10.2, 'hero_name': 'Baptiste', 'hero_color': '#28A5C3'}\n",
      "- Loading data for hero: bastion\n",
      "{'winrate': 45.7, 'pick_rate': 6.8, 'hero_name': 'Bastion', 'hero_color': '#5B7351'}\n",
      "- Loading data for hero: brigitte\n",
      "{'winrate': 46.7, 'pick_rate': 4.2, 'hero_name': 'Brigitte', 'hero_color': '#72332A'}\n",
      "- Loading data for hero: cassidy\n",
      "{'winrate': 47.1, 'pick_rate': 35.5, 'hero_name': 'Cassidy', 'hero_color': '#A62927'}\n",
      "- Loading data for hero: dva\n",
      "{'winrate': 50.3, 'pick_rate': 9.3, 'hero_name': 'D.Va', 'hero_color': '#FC79BD'}\n",
      "- Loading data for hero: doomfist\n",
      "{'winrate': 54.0, 'pick_rate': 9.6, 'hero_name': 'Doomfist', 'hero_color': '#661E0F'}\n",
      "- Loading data for hero: echo\n",
      "{'winrate': 50.3, 'pick_rate': 4.6, 'hero_name': 'Echo', 'hero_color': '#89C8FF'}\n",
      "- Loading data for hero: freja\n",
      "{'winrate': 46.4, 'pick_rate': 4.5, 'hero_name': 'Freja', 'hero_color': '#3F93FF'}\n",
      "- Loading data for hero: genji\n",
      "{'winrate': 55.9, 'pick_rate': 24.0, 'hero_name': 'Genji', 'hero_color': '#80FB00'}\n",
      "- Loading data for hero: hanzo\n",
      "{'winrate': 51.8, 'pick_rate': 15.8, 'hero_name': 'Hanzo', 'hero_color': '#B2A865'}\n",
      "- Loading data for hero: hazard\n",
      "{'winrate': 53.3, 'pick_rate': 4.7, 'hero_name': 'Hazard', 'hero_color': '#985EC0'}\n",
      "- Loading data for hero: illari\n",
      "{'winrate': 51.9, 'pick_rate': 5.6, 'hero_name': 'Illari', 'hero_color': '#A58C54'}\n",
      "- Loading data for hero: junker-queen\n",
      "{'winrate': 55.3, 'pick_rate': 7.5, 'hero_name': 'Junker Queen', 'hero_color': '#579FCF'}\n",
      "- Loading data for hero: junkrat\n",
      "{'winrate': 46.7, 'pick_rate': 5.9, 'hero_name': 'Junkrat', 'hero_color': '#F7B217'}\n",
      "- Loading data for hero: juno\n",
      "{'winrate': 49.6, 'pick_rate': 14.3, 'hero_name': 'Juno', 'hero_color': '#721FA3'}\n",
      "- Loading data for hero: kiriko\n",
      "{'winrate': 45.8, 'pick_rate': 28.2, 'hero_name': 'Kiriko', 'hero_color': '#D04656'}\n",
      "- Loading data for hero: lifeweaver\n",
      "{'winrate': 44.7, 'pick_rate': 8.9, 'hero_name': 'Lifeweaver', 'hero_color': '#E1A5BA'}\n",
      "- Loading data for hero: lucio\n",
      "{'winrate': 53.8, 'pick_rate': 7.5, 'hero_name': 'Lúcio', 'hero_color': '#67C519'}\n",
      "- Loading data for hero: mauga\n",
      "{'winrate': 48.4, 'pick_rate': 3.8, 'hero_name': 'Mauga', 'hero_color': '#DB4216'}\n",
      "- Loading data for hero: mei\n",
      "{'winrate': 45.7, 'pick_rate': 7.4, 'hero_name': 'Mei', 'hero_color': '#469AF0'}\n",
      "- Loading data for hero: mercy\n",
      "{'winrate': 51.8, 'pick_rate': 21.9, 'hero_name': 'Mercy', 'hero_color': '#FAF2AD'}\n",
      "- Loading data for hero: moira\n",
      "{'winrate': 44.4, 'pick_rate': 19.0, 'hero_name': 'Moira', 'hero_color': '#804BE5'}\n",
      "- Loading data for hero: orisa\n",
      "{'winrate': 41.1, 'pick_rate': 8.9, 'hero_name': 'Orisa', 'hero_color': '#106F04'}\n",
      "- Loading data for hero: pharah\n",
      "{'winrate': 50.5, 'pick_rate': 4.1, 'hero_name': 'Pharah', 'hero_color': '#58BCFF'}\n",
      "- Loading data for hero: ramattra\n",
      "{'winrate': 44.8, 'pick_rate': 7.8, 'hero_name': 'Ramattra', 'hero_color': '#7D55C7'}\n",
      "- Loading data for hero: reaper\n",
      "{'winrate': 51.6, 'pick_rate': 8.8, 'hero_name': 'Reaper', 'hero_color': '#5E001A'}\n",
      "- Loading data for hero: reinhardt\n",
      "{'winrate': 53.2, 'pick_rate': 16.0, 'hero_name': 'Reinhardt', 'hero_color': '#7C8B8C'}\n",
      "- Loading data for hero: roadhog\n",
      "{'winrate': 39.2, 'pick_rate': 6.5, 'hero_name': 'Roadhog', 'hero_color': '#AE6F1C'}\n",
      "- Loading data for hero: sigma\n",
      "{'winrate': 51.4, 'pick_rate': 9.3, 'hero_name': 'Sigma', 'hero_color': '#7C8B8C'}\n",
      "- Loading data for hero: sojourn\n",
      "{'winrate': 45.8, 'pick_rate': 19.1, 'hero_name': 'Sojourn', 'hero_color': '#D73E2C'}\n",
      "- Loading data for hero: soldier-76\n",
      "{'winrate': 49.5, 'pick_rate': 18.7, 'hero_name': 'Soldier: 76', 'hero_color': '#445275'}\n",
      "- Loading data for hero: sombra\n",
      "{'winrate': 47.0, 'pick_rate': 3.7, 'hero_name': 'Sombra', 'hero_color': '#5128A9'}\n",
      "- Loading data for hero: symmetra\n",
      "{'winrate': 51.9, 'pick_rate': 3.6, 'hero_name': 'Symmetra', 'hero_color': '#76B4C9'}\n",
      "- Loading data for hero: torbjorn\n",
      "{'winrate': 48.2, 'pick_rate': 3.8, 'hero_name': 'Torbjörn', 'hero_color': '#BA4C3F'}\n",
      "- Loading data for hero: tracer\n",
      "{'winrate': 53.0, 'pick_rate': 10.8, 'hero_name': 'Tracer', 'hero_color': '#DE7A00'}\n",
      "- Loading data for hero: venture\n",
      "{'winrate': 51.5, 'pick_rate': 5.1, 'hero_name': 'Venture', 'hero_color': '#79614E'}\n",
      "- Loading data for hero: widowmaker\n",
      "{'winrate': 49.4, 'pick_rate': 5.9, 'hero_name': 'Widowmaker', 'hero_color': '#8B3F8F'}\n",
      "- Loading data for hero: winston\n",
      "{'winrate': 50.2, 'pick_rate': 7.3, 'hero_name': 'Winston', 'hero_color': '#8F92AE'}\n",
      "- Loading data for hero: wrecking-ball\n",
      "{'winrate': 59.9, 'pick_rate': 2.2, 'hero_name': 'Wrecking Ball', 'hero_color': '#E2790A'}\n",
      "- Loading data for hero: wuyang\n",
      "{'winrate': 56.5, 'pick_rate': 34.8, 'hero_name': 'Wuyang', 'hero_color': '#4C7FEF'}\n",
      "- Loading data for hero: zarya\n",
      "{'winrate': 48.5, 'pick_rate': 7.0, 'hero_name': 'Zarya', 'hero_color': '#F65EA6'}\n",
      "- Loading data for hero: zenyatta\n",
      "{'winrate': 52.2, 'pick_rate': 9.0, 'hero_name': 'Zenyatta', 'hero_color': '#FCEE5A'}\n",
      "Loading data for tier: Diamond\n",
      "- Loading data for hero: ana\n",
      "{'winrate': 47.7, 'pick_rate': 37.8, 'hero_name': 'Ana', 'hero_color': '#48699E'}\n",
      "- Loading data for hero: ashe\n",
      "{'winrate': 49.8, 'pick_rate': 8.6, 'hero_name': 'Ashe', 'hero_color': '#3E3C3A'}\n",
      "- Loading data for hero: baptiste\n",
      "{'winrate': 50.4, 'pick_rate': 13.7, 'hero_name': 'Baptiste', 'hero_color': '#28A5C3'}\n",
      "- Loading data for hero: bastion\n",
      "{'winrate': 43.8, 'pick_rate': 4.0, 'hero_name': 'Bastion', 'hero_color': '#5B7351'}\n",
      "- Loading data for hero: brigitte\n",
      "{'winrate': 46.3, 'pick_rate': 7.3, 'hero_name': 'Brigitte', 'hero_color': '#72332A'}\n",
      "- Loading data for hero: cassidy\n",
      "{'winrate': 46.7, 'pick_rate': 35.7, 'hero_name': 'Cassidy', 'hero_color': '#A62927'}\n",
      "- Loading data for hero: dva\n",
      "{'winrate': 50.8, 'pick_rate': 9.3, 'hero_name': 'D.Va', 'hero_color': '#FC79BD'}\n",
      "- Loading data for hero: doomfist\n",
      "{'winrate': 50.8, 'pick_rate': 11.6, 'hero_name': 'Doomfist', 'hero_color': '#661E0F'}\n",
      "- Loading data for hero: echo\n",
      "{'winrate': 49.6, 'pick_rate': 5.2, 'hero_name': 'Echo', 'hero_color': '#89C8FF'}\n",
      "- Loading data for hero: freja\n",
      "{'winrate': 50.6, 'pick_rate': 4.6, 'hero_name': 'Freja', 'hero_color': '#3F93FF'}\n",
      "- Loading data for hero: genji\n",
      "{'winrate': 53.6, 'pick_rate': 30.0, 'hero_name': 'Genji', 'hero_color': '#80FB00'}\n",
      "- Loading data for hero: hanzo\n",
      "{'winrate': 49.9, 'pick_rate': 11.2, 'hero_name': 'Hanzo', 'hero_color': '#B2A865'}\n",
      "- Loading data for hero: hazard\n",
      "{'winrate': 51.8, 'pick_rate': 7.1, 'hero_name': 'Hazard', 'hero_color': '#985EC0'}\n",
      "- Loading data for hero: illari\n",
      "{'winrate': 54.1, 'pick_rate': 6.0, 'hero_name': 'Illari', 'hero_color': '#A58C54'}\n",
      "- Loading data for hero: junker-queen\n",
      "{'winrate': 57.1, 'pick_rate': 8.7, 'hero_name': 'Junker Queen', 'hero_color': '#579FCF'}\n",
      "- Loading data for hero: junkrat\n",
      "{'winrate': 46.6, 'pick_rate': 4.3, 'hero_name': 'Junkrat', 'hero_color': '#F7B217'}\n",
      "- Loading data for hero: juno\n",
      "{'winrate': 47.3, 'pick_rate': 14.0, 'hero_name': 'Juno', 'hero_color': '#721FA3'}\n",
      "- Loading data for hero: kiriko\n",
      "{'winrate': 45.3, 'pick_rate': 30.5, 'hero_name': 'Kiriko', 'hero_color': '#D04656'}\n",
      "- Loading data for hero: lifeweaver\n",
      "{'winrate': 43.6, 'pick_rate': 6.1, 'hero_name': 'Lifeweaver', 'hero_color': '#E1A5BA'}\n",
      "- Loading data for hero: lucio\n",
      "{'winrate': 55.1, 'pick_rate': 12.5, 'hero_name': 'Lúcio', 'hero_color': '#67C519'}\n",
      "- Loading data for hero: mauga\n",
      "{'winrate': 51.8, 'pick_rate': 3.9, 'hero_name': 'Mauga', 'hero_color': '#DB4216'}\n",
      "- Loading data for hero: mei\n",
      "{'winrate': 45.8, 'pick_rate': 5.2, 'hero_name': 'Mei', 'hero_color': '#469AF0'}\n",
      "- Loading data for hero: mercy\n",
      "{'winrate': 50.6, 'pick_rate': 16.2, 'hero_name': 'Mercy', 'hero_color': '#FAF2AD'}\n",
      "- Loading data for hero: moira\n",
      "{'winrate': 45.4, 'pick_rate': 13.2, 'hero_name': 'Moira', 'hero_color': '#804BE5'}\n",
      "- Loading data for hero: orisa\n",
      "{'winrate': 43.0, 'pick_rate': 8.7, 'hero_name': 'Orisa', 'hero_color': '#106F04'}\n",
      "- Loading data for hero: pharah\n",
      "{'winrate': 49.9, 'pick_rate': 4.4, 'hero_name': 'Pharah', 'hero_color': '#58BCFF'}\n",
      "- Loading data for hero: ramattra\n",
      "{'winrate': 44.0, 'pick_rate': 5.7, 'hero_name': 'Ramattra', 'hero_color': '#7D55C7'}\n",
      "- Loading data for hero: reaper\n",
      "{'winrate': 53.8, 'pick_rate': 6.1, 'hero_name': 'Reaper', 'hero_color': '#5E001A'}\n",
      "- Loading data for hero: reinhardt\n",
      "{'winrate': 52.5, 'pick_rate': 11.9, 'hero_name': 'Reinhardt', 'hero_color': '#7C8B8C'}\n",
      "- Loading data for hero: roadhog\n",
      "{'winrate': 36.4, 'pick_rate': 5.6, 'hero_name': 'Roadhog', 'hero_color': '#AE6F1C'}\n",
      "- Loading data for hero: sigma\n",
      "{'winrate': 52.0, 'pick_rate': 8.7, 'hero_name': 'Sigma', 'hero_color': '#7C8B8C'}\n",
      "- Loading data for hero: sojourn\n",
      "{'winrate': 46.8, 'pick_rate': 23.5, 'hero_name': 'Sojourn', 'hero_color': '#D73E2C'}\n",
      "- Loading data for hero: soldier-76\n",
      "{'winrate': 48.2, 'pick_rate': 15.3, 'hero_name': 'Soldier: 76', 'hero_color': '#445275'}\n",
      "- Loading data for hero: sombra\n",
      "{'winrate': 46.6, 'pick_rate': 4.1, 'hero_name': 'Sombra', 'hero_color': '#5128A9'}\n",
      "- Loading data for hero: symmetra\n",
      "{'winrate': 54.1, 'pick_rate': 2.9, 'hero_name': 'Symmetra', 'hero_color': '#76B4C9'}\n",
      "- Loading data for hero: torbjorn\n",
      "{'winrate': 45.9, 'pick_rate': 3.3, 'hero_name': 'Torbjörn', 'hero_color': '#BA4C3F'}\n",
      "- Loading data for hero: tracer\n",
      "{'winrate': 53.9, 'pick_rate': 19.8, 'hero_name': 'Tracer', 'hero_color': '#DE7A00'}\n",
      "- Loading data for hero: venture\n",
      "{'winrate': 53.1, 'pick_rate': 6.4, 'hero_name': 'Venture', 'hero_color': '#79614E'}\n",
      "- Loading data for hero: widowmaker\n",
      "{'winrate': 49.8, 'pick_rate': 5.6, 'hero_name': 'Widowmaker', 'hero_color': '#8B3F8F'}\n",
      "- Loading data for hero: winston\n",
      "{'winrate': 48.8, 'pick_rate': 9.3, 'hero_name': 'Winston', 'hero_color': '#8F92AE'}\n",
      "- Loading data for hero: wrecking-ball\n",
      "{'winrate': 55.3, 'pick_rate': 3.1, 'hero_name': 'Wrecking Ball', 'hero_color': '#E2790A'}\n",
      "- Loading data for hero: wuyang\n",
      "{'winrate': 56.6, 'pick_rate': 33.7, 'hero_name': 'Wuyang', 'hero_color': '#4C7FEF'}\n",
      "- Loading data for hero: zarya\n",
      "{'winrate': 48.6, 'pick_rate': 6.5, 'hero_name': 'Zarya', 'hero_color': '#F65EA6'}\n",
      "- Loading data for hero: zenyatta\n",
      "{'winrate': 50.3, 'pick_rate': 9.1, 'hero_name': 'Zenyatta', 'hero_color': '#FCEE5A'}\n",
      "Loading data for tier: Master\n",
      "- Loading data for hero: ana\n",
      "{'winrate': 48.1, 'pick_rate': 24.2, 'hero_name': 'Ana', 'hero_color': '#48699E'}\n",
      "- Loading data for hero: ashe\n",
      "{'winrate': 46.1, 'pick_rate': 3.1, 'hero_name': 'Ashe', 'hero_color': '#3E3C3A'}\n",
      "- Loading data for hero: baptiste\n",
      "{'winrate': 50.5, 'pick_rate': 18.9, 'hero_name': 'Baptiste', 'hero_color': '#28A5C3'}\n",
      "- Loading data for hero: bastion\n",
      "{'winrate': 52.7, 'pick_rate': 3.5, 'hero_name': 'Bastion', 'hero_color': '#5B7351'}\n",
      "- Loading data for hero: brigitte\n",
      "{'winrate': 46.8, 'pick_rate': 9.2, 'hero_name': 'Brigitte', 'hero_color': '#72332A'}\n",
      "- Loading data for hero: cassidy\n",
      "{'winrate': 45.8, 'pick_rate': 30.3, 'hero_name': 'Cassidy', 'hero_color': '#A62927'}\n",
      "- Loading data for hero: dva\n",
      "{'winrate': 55.0, 'pick_rate': 10.1, 'hero_name': 'D.Va', 'hero_color': '#FC79BD'}\n",
      "- Loading data for hero: doomfist\n",
      "{'winrate': 45.1, 'pick_rate': 9.8, 'hero_name': 'Doomfist', 'hero_color': '#661E0F'}\n",
      "- Loading data for hero: echo\n",
      "{'winrate': 53.2, 'pick_rate': 4.5, 'hero_name': 'Echo', 'hero_color': '#89C8FF'}\n",
      "- Loading data for hero: freja\n",
      "{'winrate': 46.6, 'pick_rate': 7.9, 'hero_name': 'Freja', 'hero_color': '#3F93FF'}\n",
      "- Loading data for hero: genji\n",
      "{'winrate': 51.1, 'pick_rate': 28.4, 'hero_name': 'Genji', 'hero_color': '#80FB00'}\n",
      "- Loading data for hero: hanzo\n",
      "{'winrate': 50.0, 'pick_rate': 7.6, 'hero_name': 'Hanzo', 'hero_color': '#B2A865'}\n",
      "- Loading data for hero: hazard\n",
      "{'winrate': 46.9, 'pick_rate': 11.1, 'hero_name': 'Hazard', 'hero_color': '#985EC0'}\n",
      "- Loading data for hero: illari\n",
      "{'winrate': 48.5, 'pick_rate': 7.7, 'hero_name': 'Illari', 'hero_color': '#A58C54'}\n",
      "- Loading data for hero: junker-queen\n",
      "{'winrate': 55.0, 'pick_rate': 10.5, 'hero_name': 'Junker Queen', 'hero_color': '#579FCF'}\n",
      "- Loading data for hero: junkrat\n",
      "{'winrate': 49.0, 'pick_rate': 3.6, 'hero_name': 'Junkrat', 'hero_color': '#F7B217'}\n",
      "- Loading data for hero: juno\n",
      "{'winrate': 44.6, 'pick_rate': 9.5, 'hero_name': 'Juno', 'hero_color': '#721FA3'}\n",
      "- Loading data for hero: kiriko\n",
      "{'winrate': 46.9, 'pick_rate': 38.4, 'hero_name': 'Kiriko', 'hero_color': '#D04656'}\n",
      "- Loading data for hero: lifeweaver\n",
      "{'winrate': 42.9, 'pick_rate': 5.0, 'hero_name': 'Lifeweaver', 'hero_color': '#E1A5BA'}\n",
      "- Loading data for hero: lucio\n",
      "{'winrate': 56.7, 'pick_rate': 21.3, 'hero_name': 'Lúcio', 'hero_color': '#67C519'}\n",
      "- Loading data for hero: mauga\n",
      "{'winrate': 44.4, 'pick_rate': 3.5, 'hero_name': 'Mauga', 'hero_color': '#DB4216'}\n",
      "- Loading data for hero: mei\n",
      "{'winrate': 47.2, 'pick_rate': 5.3, 'hero_name': 'Mei', 'hero_color': '#469AF0'}\n",
      "- Loading data for hero: mercy\n",
      "{'winrate': 51.8, 'pick_rate': 8.3, 'hero_name': 'Mercy', 'hero_color': '#FAF2AD'}\n",
      "- Loading data for hero: moira\n",
      "{'winrate': 41.0, 'pick_rate': 7.4, 'hero_name': 'Moira', 'hero_color': '#804BE5'}\n",
      "- Loading data for hero: orisa\n",
      "{'winrate': 39.3, 'pick_rate': 10.8, 'hero_name': 'Orisa', 'hero_color': '#106F04'}\n",
      "- Loading data for hero: pharah\n",
      "{'winrate': 41.7, 'pick_rate': 3.3, 'hero_name': 'Pharah', 'hero_color': '#58BCFF'}\n",
      "- Loading data for hero: ramattra\n",
      "{'winrate': 45.5, 'pick_rate': 3.5, 'hero_name': 'Ramattra', 'hero_color': '#7D55C7'}\n",
      "- Loading data for hero: reaper\n",
      "{'winrate': 52.3, 'pick_rate': 5.0, 'hero_name': 'Reaper', 'hero_color': '#5E001A'}\n",
      "- Loading data for hero: reinhardt\n",
      "{'winrate': 55.7, 'pick_rate': 8.8, 'hero_name': 'Reinhardt', 'hero_color': '#7C8B8C'}\n",
      "- Loading data for hero: roadhog\n",
      "{'winrate': 37.3, 'pick_rate': 3.5, 'hero_name': 'Roadhog', 'hero_color': '#AE6F1C'}\n",
      "- Loading data for hero: sigma\n",
      "{'winrate': 56.2, 'pick_rate': 7.2, 'hero_name': 'Sigma', 'hero_color': '#7C8B8C'}\n",
      "- Loading data for hero: sojourn\n",
      "{'winrate': 48.9, 'pick_rate': 25.5, 'hero_name': 'Sojourn', 'hero_color': '#D73E2C'}\n",
      "- Loading data for hero: soldier-76\n",
      "{'winrate': 52.0, 'pick_rate': 9.9, 'hero_name': 'Soldier: 76', 'hero_color': '#445275'}\n",
      "- Loading data for hero: sombra\n",
      "{'winrate': 48.5, 'pick_rate': 3.6, 'hero_name': 'Sombra', 'hero_color': '#5128A9'}\n",
      "- Loading data for hero: symmetra\n",
      "{'winrate': 58.5, 'pick_rate': 6.2, 'hero_name': 'Symmetra', 'hero_color': '#76B4C9'}\n",
      "- Loading data for hero: torbjorn\n",
      "{'winrate': 46.2, 'pick_rate': 2.9, 'hero_name': 'Torbjörn', 'hero_color': '#BA4C3F'}\n",
      "- Loading data for hero: tracer\n",
      "{'winrate': 53.9, 'pick_rate': 37.2, 'hero_name': 'Tracer', 'hero_color': '#DE7A00'}\n",
      "- Loading data for hero: venture\n",
      "{'winrate': 48.1, 'pick_rate': 8.6, 'hero_name': 'Venture', 'hero_color': '#79614E'}\n",
      "- Loading data for hero: widowmaker\n",
      "{'winrate': 41.9, 'pick_rate': 4.3, 'hero_name': 'Widowmaker', 'hero_color': '#8B3F8F'}\n",
      "- Loading data for hero: winston\n",
      "{'winrate': 49.4, 'pick_rate': 7.9, 'hero_name': 'Winston', 'hero_color': '#8F92AE'}\n",
      "- Loading data for hero: wrecking-ball\n",
      "{'winrate': 60.9, 'pick_rate': 4.6, 'hero_name': 'Wrecking Ball', 'hero_color': '#E2790A'}\n",
      "- Loading data for hero: wuyang\n",
      "{'winrate': 54.3, 'pick_rate': 42.0, 'hero_name': 'Wuyang', 'hero_color': '#4C7FEF'}\n",
      "- Loading data for hero: zarya\n",
      "{'winrate': 56.5, 'pick_rate': 8.8, 'hero_name': 'Zarya', 'hero_color': '#F65EA6'}\n",
      "- Loading data for hero: zenyatta\n",
      "{'winrate': 53.0, 'pick_rate': 8.2, 'hero_name': 'Zenyatta', 'hero_color': '#FCEE5A'}\n",
      "Loading data for tier: Grandmaster\n",
      "- Loading data for hero: ana\n",
      "{'winrate': 49.8, 'pick_rate': 36.3, 'hero_name': 'Ana', 'hero_color': '#48699E'}\n",
      "- Loading data for hero: ashe\n",
      "{'winrate': 19.8, 'pick_rate': 5.7, 'hero_name': 'Ashe', 'hero_color': '#3E3C3A'}\n",
      "- Loading data for hero: baptiste\n",
      "{'winrate': 41.1, 'pick_rate': 21.4, 'hero_name': 'Baptiste', 'hero_color': '#28A5C3'}\n",
      "- Loading data for hero: bastion\n",
      "{'winrate': 55.4, 'pick_rate': 18.8, 'hero_name': 'Bastion', 'hero_color': '#5B7351'}\n",
      "- Loading data for hero: brigitte\n",
      "{'winrate': 19.2, 'pick_rate': 14.5, 'hero_name': 'Brigitte', 'hero_color': '#72332A'}\n",
      "- Loading data for hero: cassidy\n",
      "{'winrate': 54.8, 'pick_rate': 32.2, 'hero_name': 'Cassidy', 'hero_color': '#A62927'}\n",
      "- Loading data for hero: dva\n",
      "{'winrate': 48.4, 'pick_rate': 14.3, 'hero_name': 'D.Va', 'hero_color': '#FC79BD'}\n",
      "- Loading data for hero: doomfist\n",
      "{'winrate': 90.2, 'pick_rate': 3.1, 'hero_name': 'Doomfist', 'hero_color': '#661E0F'}\n",
      "- Loading data for hero: echo\n",
      "{'winrate': 50.5, 'pick_rate': 22.5, 'hero_name': 'Echo', 'hero_color': '#89C8FF'}\n",
      "- Loading data for hero: freja\n",
      "{'winrate': 54.3, 'pick_rate': 26.8, 'hero_name': 'Freja', 'hero_color': '#3F93FF'}\n",
      "- Loading data for hero: genji\n",
      "{'winrate': 58.8, 'pick_rate': 28.7, 'hero_name': 'Genji', 'hero_color': '#80FB00'}\n",
      "- Loading data for hero: hanzo\n",
      "{'winrate': 40.2, 'pick_rate': 12.8, 'hero_name': 'Hanzo', 'hero_color': '#B2A865'}\n",
      "- Loading data for hero: hazard\n",
      "{'winrate': 41.7, 'pick_rate': 24.4, 'hero_name': 'Hazard', 'hero_color': '#985EC0'}\n",
      "- Loading data for hero: illari\n",
      "{'winrate': 73.7, 'pick_rate': 17.2, 'hero_name': 'Illari', 'hero_color': '#A58C54'}\n",
      "- Loading data for hero: junker-queen\n",
      "{'winrate': 40.2, 'pick_rate': 13.6, 'hero_name': 'Junker Queen', 'hero_color': '#579FCF'}\n",
      "- Loading data for hero: junkrat\n",
      "{'winrate': 50.0, 'pick_rate': 25.0, 'hero_name': 'Junkrat', 'hero_color': '#F7B217'}\n",
      "- Loading data for hero: juno\n",
      "{'winrate': 20.5, 'pick_rate': 5.0, 'hero_name': 'Juno', 'hero_color': '#721FA3'}\n",
      "- Loading data for hero: kiriko\n",
      "{'winrate': 67.1, 'pick_rate': 58.0, 'hero_name': 'Kiriko', 'hero_color': '#D04656'}\n",
      "- Loading data for hero: lifeweaver\n",
      "{'winrate': -1.0, 'pick_rate': -1.0, 'hero_name': 'Lifeweaver', 'hero_color': '#E1A5BA'}\n",
      "- Loading data for hero: lucio\n",
      "{'winrate': 44.0, 'pick_rate': 14.8, 'hero_name': 'Lúcio', 'hero_color': '#67C519'}\n",
      "- Loading data for hero: mauga\n",
      "{'winrate': 14.5, 'pick_rate': 8.2, 'hero_name': 'Mauga', 'hero_color': '#DB4216'}\n",
      "- Loading data for hero: mei\n",
      "{'winrate': 0.0, 'pick_rate': 14.8, 'hero_name': 'Mei', 'hero_color': '#469AF0'}\n",
      "- Loading data for hero: mercy\n",
      "{'winrate': 100.0, 'pick_rate': 50.0, 'hero_name': 'Mercy', 'hero_color': '#FAF2AD'}\n",
      "- Loading data for hero: moira\n",
      "{'winrate': 0.0, 'pick_rate': 0.1, 'hero_name': 'Moira', 'hero_color': '#804BE5'}\n",
      "- Loading data for hero: orisa\n",
      "{'winrate': 43.1, 'pick_rate': 39.7, 'hero_name': 'Orisa', 'hero_color': '#106F04'}\n",
      "- Loading data for hero: pharah\n",
      "{'winrate': 44.3, 'pick_rate': 9.4, 'hero_name': 'Pharah', 'hero_color': '#58BCFF'}\n",
      "- Loading data for hero: ramattra\n",
      "{'winrate': 55.1, 'pick_rate': 36.8, 'hero_name': 'Ramattra', 'hero_color': '#7D55C7'}\n",
      "- Loading data for hero: reaper\n",
      "{'winrate': 55.6, 'pick_rate': 40.9, 'hero_name': 'Reaper', 'hero_color': '#5E001A'}\n",
      "- Loading data for hero: reinhardt\n",
      "{'winrate': 0.0, 'pick_rate': 5.5, 'hero_name': 'Reinhardt', 'hero_color': '#7C8B8C'}\n",
      "- Loading data for hero: roadhog\n",
      "{'winrate': 91.9, 'pick_rate': 6.8, 'hero_name': 'Roadhog', 'hero_color': '#AE6F1C'}\n",
      "- Loading data for hero: sigma\n",
      "{'winrate': 61.9, 'pick_rate': 8.5, 'hero_name': 'Sigma', 'hero_color': '#7C8B8C'}\n",
      "- Loading data for hero: sojourn\n",
      "{'winrate': 46.3, 'pick_rate': 26.1, 'hero_name': 'Sojourn', 'hero_color': '#D73E2C'}\n",
      "- Loading data for hero: soldier-76\n",
      "{'winrate': 8.8, 'pick_rate': 6.7, 'hero_name': 'Soldier: 76', 'hero_color': '#445275'}\n",
      "- Loading data for hero: sombra\n",
      "{'winrate': 30.4, 'pick_rate': 1.3, 'hero_name': 'Sombra', 'hero_color': '#5128A9'}\n",
      "- Loading data for hero: symmetra\n",
      "{'winrate': 49.6, 'pick_rate': 10.7, 'hero_name': 'Symmetra', 'hero_color': '#76B4C9'}\n",
      "- Loading data for hero: torbjorn\n",
      "{'winrate': 0.0, 'pick_rate': 2.4, 'hero_name': 'Torbjörn', 'hero_color': '#BA4C3F'}\n",
      "- Loading data for hero: tracer\n",
      "{'winrate': 51.9, 'pick_rate': 49.6, 'hero_name': 'Tracer', 'hero_color': '#DE7A00'}\n",
      "- Loading data for hero: venture\n",
      "{'winrate': 61.7, 'pick_rate': 24.1, 'hero_name': 'Venture', 'hero_color': '#79614E'}\n",
      "- Loading data for hero: widowmaker\n",
      "{'winrate': 10.0, 'pick_rate': 10.5, 'hero_name': 'Widowmaker', 'hero_color': '#8B3F8F'}\n",
      "- Loading data for hero: winston\n",
      "{'winrate': 68.7, 'pick_rate': 22.3, 'hero_name': 'Winston', 'hero_color': '#8F92AE'}\n",
      "- Loading data for hero: wrecking-ball\n",
      "{'winrate': 33.9, 'pick_rate': 22.0, 'hero_name': 'Wrecking Ball', 'hero_color': '#E2790A'}\n",
      "- Loading data for hero: wuyang\n",
      "{'winrate': 61.7, 'pick_rate': 77.9, 'hero_name': 'Wuyang', 'hero_color': '#4C7FEF'}\n",
      "- Loading data for hero: zarya\n",
      "{'winrate': 75.3, 'pick_rate': 19.8, 'hero_name': 'Zarya', 'hero_color': '#F65EA6'}\n",
      "- Loading data for hero: zenyatta\n",
      "{'winrate': 35.0, 'pick_rate': 16.0, 'hero_name': 'Zenyatta', 'hero_color': '#FCEE5A'}\n"
     ]
    }
   ],
   "source": [
    "winrate_per_tier = {} # {hero: {tier: winrate}}\n",
    "\n",
    "for tier in TIERS:\n",
    "    print(f\"Loading data for tier: {tier}\")\n",
    "    df = load_stats_data(tier=tier)\n",
    "    for hero in df[\"id\"].tolist():\n",
    "        print(f\"- Loading data for hero: {hero}\")\n",
    "        hero_df = df[df[\"id\"] == hero]\n",
    "        winrate_per_tier.setdefault(hero, {})\n",
    "        winrate_per_tier[hero][tier] = {\n",
    "            \"winrate\": hero_df[\"cells_winrate\"].mean(),\n",
    "            \"pick_rate\": hero_df[\"cells_pickrate\"].mean(),\n",
    "            \"hero_name\": hero_df[\"hero_name\"].iloc[0],\n",
    "            \"hero_color\": \"#\" + hero_df[\"hero_color\"].iloc[0].upper()[:6]\n",
    "        }\n",
    "        print(winrate_per_tier[hero][tier])\n"
   ]
  },
  {
   "cell_type": "code",
   "execution_count": 41,
   "id": "768ed3c6",
   "metadata": {},
   "outputs": [
    {
     "data": {
      "application/vnd.plotly.v1+json": {
       "config": {
        "plotlyServerURL": "https://plot.ly"
       },
       "data": [
        {
         "connectgaps": true,
         "line": {
          "color": "#48699E",
          "width": 2
         },
         "marker": {
          "color": "#48699E"
         },
         "mode": "lines+markers",
         "name": "ana",
         "showlegend": false,
         "type": "scatter",
         "x": [
          0,
          1,
          2,
          3,
          4,
          5,
          6
         ],
         "xaxis": "x",
         "y": [
          46,
          47.3,
          48.8,
          49,
          47.7,
          48.1,
          49.8
         ],
         "yaxis": "y"
        },
        {
         "connectgaps": true,
         "line": {
          "color": "#3E3C3A",
          "width": 2
         },
         "marker": {
          "color": "#3E3C3A"
         },
         "mode": "lines+markers",
         "name": "ashe",
         "showlegend": false,
         "type": "scatter",
         "x": [
          0,
          1,
          2,
          3,
          4,
          5,
          6
         ],
         "xaxis": "x2",
         "y": [
          53.6,
          51.1,
          50,
          49.8,
          49.8,
          46.1,
          19.8
         ],
         "yaxis": "y2"
        },
        {
         "connectgaps": true,
         "line": {
          "color": "#28A5C3",
          "width": 2
         },
         "marker": {
          "color": "#28A5C3"
         },
         "mode": "lines+markers",
         "name": "baptiste",
         "showlegend": false,
         "type": "scatter",
         "x": [
          0,
          1,
          2,
          3,
          4,
          5,
          6
         ],
         "xaxis": "x3",
         "y": [
          48.3,
          45.3,
          46.1,
          47.1,
          50.4,
          50.5,
          41.1
         ],
         "yaxis": "y3"
        },
        {
         "connectgaps": true,
         "line": {
          "color": "#5B7351",
          "width": 2
         },
         "marker": {
          "color": "#5B7351"
         },
         "mode": "lines+markers",
         "name": "bastion",
         "showlegend": false,
         "type": "scatter",
         "x": [
          0,
          1,
          2,
          3,
          4,
          5,
          6
         ],
         "xaxis": "x4",
         "y": [
          51.7,
          48.2,
          45.5,
          45.7,
          43.8,
          52.7,
          55.4
         ],
         "yaxis": "y4"
        },
        {
         "connectgaps": true,
         "line": {
          "color": "#72332A",
          "width": 2
         },
         "marker": {
          "color": "#72332A"
         },
         "mode": "lines+markers",
         "name": "brigitte",
         "showlegend": false,
         "type": "scatter",
         "x": [
          0,
          1,
          2,
          3,
          4,
          5,
          6
         ],
         "xaxis": "x5",
         "y": [
          42.6,
          50,
          49,
          46.7,
          46.3,
          46.8,
          19.2
         ],
         "yaxis": "y5"
        },
        {
         "connectgaps": true,
         "line": {
          "color": "#A62927",
          "width": 2
         },
         "marker": {
          "color": "#A62927"
         },
         "mode": "lines+markers",
         "name": "cassidy",
         "showlegend": false,
         "type": "scatter",
         "x": [
          0,
          1,
          2,
          3,
          4,
          5,
          6
         ],
         "xaxis": "x6",
         "y": [
          47.8,
          49.1,
          48.3,
          47.1,
          46.7,
          45.8,
          54.8
         ],
         "yaxis": "y6"
        },
        {
         "connectgaps": true,
         "line": {
          "color": "#FC79BD",
          "width": 2
         },
         "marker": {
          "color": "#FC79BD"
         },
         "mode": "lines+markers",
         "name": "dva",
         "showlegend": false,
         "type": "scatter",
         "x": [
          0,
          1,
          2,
          3,
          4,
          5,
          6
         ],
         "xaxis": "x7",
         "y": [
          46.7,
          47.4,
          47.8,
          50.3,
          50.8,
          55,
          48.4
         ],
         "yaxis": "y7"
        },
        {
         "connectgaps": true,
         "line": {
          "color": "#661E0F",
          "width": 2
         },
         "marker": {
          "color": "#661E0F"
         },
         "mode": "lines+markers",
         "name": "doomfist",
         "showlegend": false,
         "type": "scatter",
         "x": [
          0,
          1,
          2,
          3,
          4,
          5,
          6
         ],
         "xaxis": "x8",
         "y": [
          48.8,
          55.5,
          56.5,
          54,
          50.8,
          45.1,
          90.2
         ],
         "yaxis": "y8"
        },
        {
         "connectgaps": true,
         "line": {
          "color": "#89C8FF",
          "width": 2
         },
         "marker": {
          "color": "#89C8FF"
         },
         "mode": "lines+markers",
         "name": "echo",
         "showlegend": false,
         "type": "scatter",
         "x": [
          0,
          1,
          2,
          3,
          4,
          5,
          6
         ],
         "xaxis": "x9",
         "y": [
          41.2,
          48,
          48.4,
          50.3,
          49.6,
          53.2,
          50.5
         ],
         "yaxis": "y9"
        },
        {
         "connectgaps": true,
         "line": {
          "color": "#3F93FF",
          "width": 2
         },
         "marker": {
          "color": "#3F93FF"
         },
         "mode": "lines+markers",
         "name": "freja",
         "showlegend": false,
         "type": "scatter",
         "x": [
          0,
          1,
          2,
          3,
          4,
          5,
          6
         ],
         "xaxis": "x10",
         "y": [
          47.5,
          44.8,
          45.3,
          46.4,
          50.6,
          46.6,
          54.3
         ],
         "yaxis": "y10"
        },
        {
         "connectgaps": true,
         "line": {
          "color": "#80FB00",
          "width": 2
         },
         "marker": {
          "color": "#80FB00"
         },
         "mode": "lines+markers",
         "name": "genji",
         "showlegend": false,
         "type": "scatter",
         "x": [
          0,
          1,
          2,
          3,
          4,
          5,
          6
         ],
         "xaxis": "x11",
         "y": [
          52.8,
          56,
          56.4,
          55.9,
          53.6,
          51.1,
          58.8
         ],
         "yaxis": "y11"
        },
        {
         "connectgaps": true,
         "line": {
          "color": "#B2A865",
          "width": 2
         },
         "marker": {
          "color": "#B2A865"
         },
         "mode": "lines+markers",
         "name": "hanzo",
         "showlegend": false,
         "type": "scatter",
         "x": [
          0,
          1,
          2,
          3,
          4,
          5,
          6
         ],
         "xaxis": "x12",
         "y": [
          52.1,
          51.9,
          53.2,
          51.8,
          49.9,
          50,
          40.2
         ],
         "yaxis": "y12"
        },
        {
         "connectgaps": true,
         "line": {
          "color": "#985EC0",
          "width": 2
         },
         "marker": {
          "color": "#985EC0"
         },
         "mode": "lines+markers",
         "name": "hazard",
         "showlegend": false,
         "type": "scatter",
         "x": [
          0,
          1,
          2,
          3,
          4,
          5,
          6
         ],
         "xaxis": "x13",
         "y": [
          51.6,
          49.9,
          51,
          53.3,
          51.8,
          46.9,
          41.7
         ],
         "yaxis": "y13"
        },
        {
         "connectgaps": true,
         "line": {
          "color": "#A58C54",
          "width": 2
         },
         "marker": {
          "color": "#A58C54"
         },
         "mode": "lines+markers",
         "name": "illari",
         "showlegend": false,
         "type": "scatter",
         "x": [
          0,
          1,
          2,
          3,
          4,
          5,
          6
         ],
         "xaxis": "x14",
         "y": [
          49,
          48.1,
          50.2,
          51.9,
          54.1,
          48.5,
          73.7
         ],
         "yaxis": "y14"
        },
        {
         "connectgaps": true,
         "line": {
          "color": "#579FCF",
          "width": 2
         },
         "marker": {
          "color": "#579FCF"
         },
         "mode": "lines+markers",
         "name": "junker-queen",
         "showlegend": false,
         "type": "scatter",
         "x": [
          0,
          1,
          2,
          3,
          4,
          5,
          6
         ],
         "xaxis": "x15",
         "y": [
          57,
          52.8,
          54.7,
          55.3,
          57.1,
          55,
          40.2
         ],
         "yaxis": "y15"
        },
        {
         "connectgaps": true,
         "line": {
          "color": "#F7B217",
          "width": 2
         },
         "marker": {
          "color": "#F7B217"
         },
         "mode": "lines+markers",
         "name": "junkrat",
         "showlegend": false,
         "type": "scatter",
         "x": [
          0,
          1,
          2,
          3,
          4,
          5,
          6
         ],
         "xaxis": "x16",
         "y": [
          47.7,
          46.8,
          45.8,
          46.7,
          46.6,
          49,
          50
         ],
         "yaxis": "y16"
        },
        {
         "connectgaps": true,
         "line": {
          "color": "#721FA3",
          "width": 2
         },
         "marker": {
          "color": "#721FA3"
         },
         "mode": "lines+markers",
         "name": "juno",
         "showlegend": false,
         "type": "scatter",
         "x": [
          0,
          1,
          2,
          3,
          4,
          5,
          6
         ],
         "xaxis": "x17",
         "y": [
          46.9,
          49.5,
          49.4,
          49.6,
          47.3,
          44.6,
          20.5
         ],
         "yaxis": "y17"
        },
        {
         "connectgaps": true,
         "line": {
          "color": "#D04656",
          "width": 2
         },
         "marker": {
          "color": "#D04656"
         },
         "mode": "lines+markers",
         "name": "kiriko",
         "showlegend": false,
         "type": "scatter",
         "x": [
          0,
          1,
          2,
          3,
          4,
          5,
          6
         ],
         "xaxis": "x18",
         "y": [
          49.8,
          46.7,
          45.9,
          45.8,
          45.3,
          46.9,
          67.1
         ],
         "yaxis": "y18"
        },
        {
         "connectgaps": true,
         "line": {
          "color": "#E1A5BA",
          "width": 2
         },
         "marker": {
          "color": "#E1A5BA"
         },
         "mode": "lines+markers",
         "name": "lifeweaver",
         "showlegend": false,
         "type": "scatter",
         "x": [
          0,
          1,
          2,
          3,
          4,
          5,
          6
         ],
         "xaxis": "x19",
         "y": [
          45.9,
          45.5,
          44.1,
          44.7,
          43.6,
          42.9,
          -1
         ],
         "yaxis": "y19"
        },
        {
         "connectgaps": true,
         "line": {
          "color": "#67C519",
          "width": 2
         },
         "marker": {
          "color": "#67C519"
         },
         "mode": "lines+markers",
         "name": "lucio",
         "showlegend": false,
         "type": "scatter",
         "x": [
          0,
          1,
          2,
          3,
          4,
          5,
          6
         ],
         "xaxis": "x20",
         "y": [
          50.5,
          55.1,
          54.8,
          53.8,
          55.1,
          56.7,
          44
         ],
         "yaxis": "y20"
        },
        {
         "connectgaps": true,
         "line": {
          "color": "#DB4216",
          "width": 2
         },
         "marker": {
          "color": "#DB4216"
         },
         "mode": "lines+markers",
         "name": "mauga",
         "showlegend": false,
         "type": "scatter",
         "x": [
          0,
          1,
          2,
          3,
          4,
          5,
          6
         ],
         "xaxis": "x21",
         "y": [
          48.7,
          48.8,
          46.5,
          48.4,
          51.8,
          44.4,
          14.5
         ],
         "yaxis": "y21"
        },
        {
         "connectgaps": true,
         "line": {
          "color": "#469AF0",
          "width": 2
         },
         "marker": {
          "color": "#469AF0"
         },
         "mode": "lines+markers",
         "name": "mei",
         "showlegend": false,
         "type": "scatter",
         "x": [
          0,
          1,
          2,
          3,
          4,
          5,
          6
         ],
         "xaxis": "x22",
         "y": [
          49.5,
          47.8,
          48.3,
          45.7,
          45.8,
          47.2,
          0
         ],
         "yaxis": "y22"
        },
        {
         "connectgaps": true,
         "line": {
          "color": "#FAF2AD",
          "width": 2
         },
         "marker": {
          "color": "#FAF2AD"
         },
         "mode": "lines+markers",
         "name": "mercy",
         "showlegend": false,
         "type": "scatter",
         "x": [
          0,
          1,
          2,
          3,
          4,
          5,
          6
         ],
         "xaxis": "x23",
         "y": [
          51,
          50.9,
          51.5,
          51.8,
          50.6,
          51.8,
          100
         ],
         "yaxis": "y23"
        },
        {
         "connectgaps": true,
         "line": {
          "color": "#804BE5",
          "width": 2
         },
         "marker": {
          "color": "#804BE5"
         },
         "mode": "lines+markers",
         "name": "moira",
         "showlegend": false,
         "type": "scatter",
         "x": [
          0,
          1,
          2,
          3,
          4,
          5,
          6
         ],
         "xaxis": "x24",
         "y": [
          48.8,
          47.5,
          45.8,
          44.4,
          45.4,
          41,
          0
         ],
         "yaxis": "y24"
        },
        {
         "connectgaps": true,
         "line": {
          "color": "#106F04",
          "width": 2
         },
         "marker": {
          "color": "#106F04"
         },
         "mode": "lines+markers",
         "name": "orisa",
         "showlegend": false,
         "type": "scatter",
         "x": [
          0,
          1,
          2,
          3,
          4,
          5,
          6
         ],
         "xaxis": "x25",
         "y": [
          43.9,
          43.5,
          43.7,
          41.1,
          43,
          39.3,
          43.1
         ],
         "yaxis": "y25"
        },
        {
         "connectgaps": true,
         "line": {
          "color": "#58BCFF",
          "width": 2
         },
         "marker": {
          "color": "#58BCFF"
         },
         "mode": "lines+markers",
         "name": "pharah",
         "showlegend": false,
         "type": "scatter",
         "x": [
          0,
          1,
          2,
          3,
          4,
          5,
          6
         ],
         "xaxis": "x26",
         "y": [
          49,
          49.7,
          50.6,
          50.5,
          49.9,
          41.7,
          44.3
         ],
         "yaxis": "y26"
        },
        {
         "connectgaps": true,
         "line": {
          "color": "#7D55C7",
          "width": 2
         },
         "marker": {
          "color": "#7D55C7"
         },
         "mode": "lines+markers",
         "name": "ramattra",
         "showlegend": false,
         "type": "scatter",
         "x": [
          0,
          1,
          2,
          3,
          4,
          5,
          6
         ],
         "xaxis": "x27",
         "y": [
          52.9,
          48.9,
          46.3,
          44.8,
          44,
          45.5,
          55.1
         ],
         "yaxis": "y27"
        },
        {
         "connectgaps": true,
         "line": {
          "color": "#5E001A",
          "width": 2
         },
         "marker": {
          "color": "#5E001A"
         },
         "mode": "lines+markers",
         "name": "reaper",
         "showlegend": false,
         "type": "scatter",
         "x": [
          0,
          1,
          2,
          3,
          4,
          5,
          6
         ],
         "xaxis": "x28",
         "y": [
          56.2,
          52.2,
          52.4,
          51.6,
          53.8,
          52.3,
          55.6
         ],
         "yaxis": "y28"
        },
        {
         "connectgaps": true,
         "line": {
          "color": "#7C8B8C",
          "width": 2
         },
         "marker": {
          "color": "#7C8B8C"
         },
         "mode": "lines+markers",
         "name": "reinhardt",
         "showlegend": false,
         "type": "scatter",
         "x": [
          0,
          1,
          2,
          3,
          4,
          5,
          6
         ],
         "xaxis": "x29",
         "y": [
          56.8,
          57.2,
          55.9,
          53.2,
          52.5,
          55.7,
          0
         ],
         "yaxis": "y29"
        },
        {
         "connectgaps": true,
         "line": {
          "color": "#AE6F1C",
          "width": 2
         },
         "marker": {
          "color": "#AE6F1C"
         },
         "mode": "lines+markers",
         "name": "roadhog",
         "showlegend": false,
         "type": "scatter",
         "x": [
          0,
          1,
          2,
          3,
          4,
          5,
          6
         ],
         "xaxis": "x30",
         "y": [
          38.2,
          37.4,
          38.5,
          39.2,
          36.4,
          37.3,
          91.9
         ],
         "yaxis": "y30"
        },
        {
         "connectgaps": true,
         "line": {
          "color": "#7C8B8C",
          "width": 2
         },
         "marker": {
          "color": "#7C8B8C"
         },
         "mode": "lines+markers",
         "name": "sigma",
         "showlegend": false,
         "type": "scatter",
         "x": [
          0,
          1,
          2,
          3,
          4,
          5,
          6
         ],
         "xaxis": "x31",
         "y": [
          51.1,
          51.4,
          51,
          51.4,
          52,
          56.2,
          61.9
         ],
         "yaxis": "y31"
        },
        {
         "connectgaps": true,
         "line": {
          "color": "#D73E2C",
          "width": 2
         },
         "marker": {
          "color": "#D73E2C"
         },
         "mode": "lines+markers",
         "name": "sojourn",
         "showlegend": false,
         "type": "scatter",
         "x": [
          0,
          1,
          2,
          3,
          4,
          5,
          6
         ],
         "xaxis": "x32",
         "y": [
          42.9,
          45.6,
          46,
          45.8,
          46.8,
          48.9,
          46.3
         ],
         "yaxis": "y32"
        },
        {
         "connectgaps": true,
         "line": {
          "color": "#445275",
          "width": 2
         },
         "marker": {
          "color": "#445275"
         },
         "mode": "lines+markers",
         "name": "soldier-76",
         "showlegend": false,
         "type": "scatter",
         "x": [
          0,
          1,
          2,
          3,
          4,
          5,
          6
         ],
         "xaxis": "x33",
         "y": [
          47.8,
          49.7,
          48.2,
          49.5,
          48.2,
          52,
          8.8
         ],
         "yaxis": "y33"
        },
        {
         "connectgaps": true,
         "line": {
          "color": "#5128A9",
          "width": 2
         },
         "marker": {
          "color": "#5128A9"
         },
         "mode": "lines+markers",
         "name": "sombra",
         "showlegend": false,
         "type": "scatter",
         "x": [
          0,
          1,
          2,
          3,
          4,
          5,
          6
         ],
         "xaxis": "x34",
         "y": [
          48.8,
          49.2,
          48,
          47,
          46.6,
          48.5,
          30.4
         ],
         "yaxis": "y34"
        },
        {
         "connectgaps": true,
         "line": {
          "color": "#76B4C9",
          "width": 2
         },
         "marker": {
          "color": "#76B4C9"
         },
         "mode": "lines+markers",
         "name": "symmetra",
         "showlegend": false,
         "type": "scatter",
         "x": [
          0,
          1,
          2,
          3,
          4,
          5,
          6
         ],
         "xaxis": "x35",
         "y": [
          59.2,
          51.8,
          50.5,
          51.9,
          54.1,
          58.5,
          49.6
         ],
         "yaxis": "y35"
        },
        {
         "connectgaps": true,
         "line": {
          "color": "#BA4C3F",
          "width": 2
         },
         "marker": {
          "color": "#BA4C3F"
         },
         "mode": "lines+markers",
         "name": "torbjorn",
         "showlegend": false,
         "type": "scatter",
         "x": [
          0,
          1,
          2,
          3,
          4,
          5,
          6
         ],
         "xaxis": "x36",
         "y": [
          49.1,
          50.2,
          49.1,
          48.2,
          45.9,
          46.2,
          0
         ],
         "yaxis": "y36"
        },
        {
         "connectgaps": true,
         "line": {
          "color": "#DE7A00",
          "width": 2
         },
         "marker": {
          "color": "#DE7A00"
         },
         "mode": "lines+markers",
         "name": "tracer",
         "showlegend": false,
         "type": "scatter",
         "x": [
          0,
          1,
          2,
          3,
          4,
          5,
          6
         ],
         "xaxis": "x37",
         "y": [
          55,
          50.1,
          51,
          53,
          53.9,
          53.9,
          51.9
         ],
         "yaxis": "y37"
        },
        {
         "connectgaps": true,
         "line": {
          "color": "#79614E",
          "width": 2
         },
         "marker": {
          "color": "#79614E"
         },
         "mode": "lines+markers",
         "name": "venture",
         "showlegend": false,
         "type": "scatter",
         "x": [
          0,
          1,
          2,
          3,
          4,
          5,
          6
         ],
         "xaxis": "x38",
         "y": [
          57.4,
          54.3,
          52.6,
          51.5,
          53.1,
          48.1,
          61.7
         ],
         "yaxis": "y38"
        },
        {
         "connectgaps": true,
         "line": {
          "color": "#8B3F8F",
          "width": 2
         },
         "marker": {
          "color": "#8B3F8F"
         },
         "mode": "lines+markers",
         "name": "widowmaker",
         "showlegend": false,
         "type": "scatter",
         "x": [
          0,
          1,
          2,
          3,
          4,
          5,
          6
         ],
         "xaxis": "x39",
         "y": [
          46.2,
          45.2,
          49.2,
          49.4,
          49.8,
          41.9,
          10
         ],
         "yaxis": "y39"
        },
        {
         "connectgaps": true,
         "line": {
          "color": "#8F92AE",
          "width": 2
         },
         "marker": {
          "color": "#8F92AE"
         },
         "mode": "lines+markers",
         "name": "winston",
         "showlegend": false,
         "type": "scatter",
         "x": [
          0,
          1,
          2,
          3,
          4,
          5,
          6
         ],
         "xaxis": "x40",
         "y": [
          51.8,
          48.8,
          50.6,
          50.2,
          48.8,
          49.4,
          68.7
         ],
         "yaxis": "y40"
        },
        {
         "connectgaps": true,
         "line": {
          "color": "#E2790A",
          "width": 2
         },
         "marker": {
          "color": "#E2790A"
         },
         "mode": "lines+markers",
         "name": "wrecking-ball",
         "showlegend": false,
         "type": "scatter",
         "x": [
          0,
          1,
          2,
          3,
          4,
          5,
          6
         ],
         "xaxis": "x41",
         "y": [
          64.8,
          53.2,
          55.8,
          59.9,
          55.3,
          60.9,
          33.9
         ],
         "yaxis": "y41"
        },
        {
         "connectgaps": true,
         "line": {
          "color": "#4C7FEF",
          "width": 2
         },
         "marker": {
          "color": "#4C7FEF"
         },
         "mode": "lines+markers",
         "name": "wuyang",
         "showlegend": false,
         "type": "scatter",
         "x": [
          0,
          1,
          2,
          3,
          4,
          5,
          6
         ],
         "xaxis": "x42",
         "y": [
          55,
          55.8,
          56.5,
          56.5,
          56.6,
          54.3,
          61.7
         ],
         "yaxis": "y42"
        },
        {
         "connectgaps": true,
         "line": {
          "color": "#F65EA6",
          "width": 2
         },
         "marker": {
          "color": "#F65EA6"
         },
         "mode": "lines+markers",
         "name": "zarya",
         "showlegend": false,
         "type": "scatter",
         "x": [
          0,
          1,
          2,
          3,
          4,
          5,
          6
         ],
         "xaxis": "x43",
         "y": [
          54,
          53.8,
          48.8,
          48.5,
          48.6,
          56.5,
          75.3
         ],
         "yaxis": "y43"
        },
        {
         "connectgaps": true,
         "line": {
          "color": "#FCEE5A",
          "width": 2
         },
         "marker": {
          "color": "#FCEE5A"
         },
         "mode": "lines+markers",
         "name": "zenyatta",
         "showlegend": false,
         "type": "scatter",
         "x": [
          0,
          1,
          2,
          3,
          4,
          5,
          6
         ],
         "xaxis": "x44",
         "y": [
          53.9,
          51.3,
          52.3,
          52.2,
          50.3,
          53,
          35
         ],
         "yaxis": "y44"
        }
       ],
       "layout": {
        "annotations": [
         {
          "font": {
           "size": 16
          },
          "showarrow": false,
          "text": "ana",
          "x": 0.14444444444444446,
          "xanchor": "center",
          "xref": "paper",
          "y": 1,
          "yanchor": "bottom",
          "yref": "paper"
         },
         {
          "font": {
           "size": 16
          },
          "showarrow": false,
          "text": "ashe",
          "x": 0.5,
          "xanchor": "center",
          "xref": "paper",
          "y": 1,
          "yanchor": "bottom",
          "yref": "paper"
         },
         {
          "font": {
           "size": 16
          },
          "showarrow": false,
          "text": "baptiste",
          "x": 0.8555555555555556,
          "xanchor": "center",
          "xref": "paper",
          "y": 1,
          "yanchor": "bottom",
          "yref": "paper"
         },
         {
          "font": {
           "size": 16
          },
          "showarrow": false,
          "text": "bastion",
          "x": 0.14444444444444446,
          "xanchor": "center",
          "xref": "paper",
          "y": 0.9311111111111112,
          "yanchor": "bottom",
          "yref": "paper"
         },
         {
          "font": {
           "size": 16
          },
          "showarrow": false,
          "text": "brigitte",
          "x": 0.5,
          "xanchor": "center",
          "xref": "paper",
          "y": 0.9311111111111112,
          "yanchor": "bottom",
          "yref": "paper"
         },
         {
          "font": {
           "size": 16
          },
          "showarrow": false,
          "text": "cassidy",
          "x": 0.8555555555555556,
          "xanchor": "center",
          "xref": "paper",
          "y": 0.9311111111111112,
          "yanchor": "bottom",
          "yref": "paper"
         },
         {
          "font": {
           "size": 16
          },
          "showarrow": false,
          "text": "dva",
          "x": 0.14444444444444446,
          "xanchor": "center",
          "xref": "paper",
          "y": 0.8622222222222222,
          "yanchor": "bottom",
          "yref": "paper"
         },
         {
          "font": {
           "size": 16
          },
          "showarrow": false,
          "text": "doomfist",
          "x": 0.5,
          "xanchor": "center",
          "xref": "paper",
          "y": 0.8622222222222222,
          "yanchor": "bottom",
          "yref": "paper"
         },
         {
          "font": {
           "size": 16
          },
          "showarrow": false,
          "text": "echo",
          "x": 0.8555555555555556,
          "xanchor": "center",
          "xref": "paper",
          "y": 0.8622222222222222,
          "yanchor": "bottom",
          "yref": "paper"
         },
         {
          "font": {
           "size": 16
          },
          "showarrow": false,
          "text": "freja",
          "x": 0.14444444444444446,
          "xanchor": "center",
          "xref": "paper",
          "y": 0.7933333333333333,
          "yanchor": "bottom",
          "yref": "paper"
         },
         {
          "font": {
           "size": 16
          },
          "showarrow": false,
          "text": "genji",
          "x": 0.5,
          "xanchor": "center",
          "xref": "paper",
          "y": 0.7933333333333333,
          "yanchor": "bottom",
          "yref": "paper"
         },
         {
          "font": {
           "size": 16
          },
          "showarrow": false,
          "text": "hanzo",
          "x": 0.8555555555555556,
          "xanchor": "center",
          "xref": "paper",
          "y": 0.7933333333333333,
          "yanchor": "bottom",
          "yref": "paper"
         },
         {
          "font": {
           "size": 16
          },
          "showarrow": false,
          "text": "hazard",
          "x": 0.14444444444444446,
          "xanchor": "center",
          "xref": "paper",
          "y": 0.7244444444444444,
          "yanchor": "bottom",
          "yref": "paper"
         },
         {
          "font": {
           "size": 16
          },
          "showarrow": false,
          "text": "illari",
          "x": 0.5,
          "xanchor": "center",
          "xref": "paper",
          "y": 0.7244444444444444,
          "yanchor": "bottom",
          "yref": "paper"
         },
         {
          "font": {
           "size": 16
          },
          "showarrow": false,
          "text": "junker-queen",
          "x": 0.8555555555555556,
          "xanchor": "center",
          "xref": "paper",
          "y": 0.7244444444444444,
          "yanchor": "bottom",
          "yref": "paper"
         },
         {
          "font": {
           "size": 16
          },
          "showarrow": false,
          "text": "junkrat",
          "x": 0.14444444444444446,
          "xanchor": "center",
          "xref": "paper",
          "y": 0.6555555555555556,
          "yanchor": "bottom",
          "yref": "paper"
         },
         {
          "font": {
           "size": 16
          },
          "showarrow": false,
          "text": "juno",
          "x": 0.5,
          "xanchor": "center",
          "xref": "paper",
          "y": 0.6555555555555556,
          "yanchor": "bottom",
          "yref": "paper"
         },
         {
          "font": {
           "size": 16
          },
          "showarrow": false,
          "text": "kiriko",
          "x": 0.8555555555555556,
          "xanchor": "center",
          "xref": "paper",
          "y": 0.6555555555555556,
          "yanchor": "bottom",
          "yref": "paper"
         },
         {
          "font": {
           "size": 16
          },
          "showarrow": false,
          "text": "lifeweaver",
          "x": 0.14444444444444446,
          "xanchor": "center",
          "xref": "paper",
          "y": 0.5866666666666667,
          "yanchor": "bottom",
          "yref": "paper"
         },
         {
          "font": {
           "size": 16
          },
          "showarrow": false,
          "text": "lucio",
          "x": 0.5,
          "xanchor": "center",
          "xref": "paper",
          "y": 0.5866666666666667,
          "yanchor": "bottom",
          "yref": "paper"
         },
         {
          "font": {
           "size": 16
          },
          "showarrow": false,
          "text": "mauga",
          "x": 0.8555555555555556,
          "xanchor": "center",
          "xref": "paper",
          "y": 0.5866666666666667,
          "yanchor": "bottom",
          "yref": "paper"
         },
         {
          "font": {
           "size": 16
          },
          "showarrow": false,
          "text": "mei",
          "x": 0.14444444444444446,
          "xanchor": "center",
          "xref": "paper",
          "y": 0.5177777777777778,
          "yanchor": "bottom",
          "yref": "paper"
         },
         {
          "font": {
           "size": 16
          },
          "showarrow": false,
          "text": "mercy",
          "x": 0.5,
          "xanchor": "center",
          "xref": "paper",
          "y": 0.5177777777777778,
          "yanchor": "bottom",
          "yref": "paper"
         },
         {
          "font": {
           "size": 16
          },
          "showarrow": false,
          "text": "moira",
          "x": 0.8555555555555556,
          "xanchor": "center",
          "xref": "paper",
          "y": 0.5177777777777778,
          "yanchor": "bottom",
          "yref": "paper"
         },
         {
          "font": {
           "size": 16
          },
          "showarrow": false,
          "text": "orisa",
          "x": 0.14444444444444446,
          "xanchor": "center",
          "xref": "paper",
          "y": 0.4488888888888889,
          "yanchor": "bottom",
          "yref": "paper"
         },
         {
          "font": {
           "size": 16
          },
          "showarrow": false,
          "text": "pharah",
          "x": 0.5,
          "xanchor": "center",
          "xref": "paper",
          "y": 0.4488888888888889,
          "yanchor": "bottom",
          "yref": "paper"
         },
         {
          "font": {
           "size": 16
          },
          "showarrow": false,
          "text": "ramattra",
          "x": 0.8555555555555556,
          "xanchor": "center",
          "xref": "paper",
          "y": 0.4488888888888889,
          "yanchor": "bottom",
          "yref": "paper"
         },
         {
          "font": {
           "size": 16
          },
          "showarrow": false,
          "text": "reaper",
          "x": 0.14444444444444446,
          "xanchor": "center",
          "xref": "paper",
          "y": 0.38,
          "yanchor": "bottom",
          "yref": "paper"
         },
         {
          "font": {
           "size": 16
          },
          "showarrow": false,
          "text": "reinhardt",
          "x": 0.5,
          "xanchor": "center",
          "xref": "paper",
          "y": 0.38,
          "yanchor": "bottom",
          "yref": "paper"
         },
         {
          "font": {
           "size": 16
          },
          "showarrow": false,
          "text": "roadhog",
          "x": 0.8555555555555556,
          "xanchor": "center",
          "xref": "paper",
          "y": 0.38,
          "yanchor": "bottom",
          "yref": "paper"
         },
         {
          "font": {
           "size": 16
          },
          "showarrow": false,
          "text": "sigma",
          "x": 0.14444444444444446,
          "xanchor": "center",
          "xref": "paper",
          "y": 0.3111111111111111,
          "yanchor": "bottom",
          "yref": "paper"
         },
         {
          "font": {
           "size": 16
          },
          "showarrow": false,
          "text": "sojourn",
          "x": 0.5,
          "xanchor": "center",
          "xref": "paper",
          "y": 0.3111111111111111,
          "yanchor": "bottom",
          "yref": "paper"
         },
         {
          "font": {
           "size": 16
          },
          "showarrow": false,
          "text": "soldier-76",
          "x": 0.8555555555555556,
          "xanchor": "center",
          "xref": "paper",
          "y": 0.3111111111111111,
          "yanchor": "bottom",
          "yref": "paper"
         },
         {
          "font": {
           "size": 16
          },
          "showarrow": false,
          "text": "sombra",
          "x": 0.14444444444444446,
          "xanchor": "center",
          "xref": "paper",
          "y": 0.24222222222222223,
          "yanchor": "bottom",
          "yref": "paper"
         },
         {
          "font": {
           "size": 16
          },
          "showarrow": false,
          "text": "symmetra",
          "x": 0.5,
          "xanchor": "center",
          "xref": "paper",
          "y": 0.24222222222222223,
          "yanchor": "bottom",
          "yref": "paper"
         },
         {
          "font": {
           "size": 16
          },
          "showarrow": false,
          "text": "torbjorn",
          "x": 0.8555555555555556,
          "xanchor": "center",
          "xref": "paper",
          "y": 0.24222222222222223,
          "yanchor": "bottom",
          "yref": "paper"
         },
         {
          "font": {
           "size": 16
          },
          "showarrow": false,
          "text": "tracer",
          "x": 0.14444444444444446,
          "xanchor": "center",
          "xref": "paper",
          "y": 0.17333333333333334,
          "yanchor": "bottom",
          "yref": "paper"
         },
         {
          "font": {
           "size": 16
          },
          "showarrow": false,
          "text": "venture",
          "x": 0.5,
          "xanchor": "center",
          "xref": "paper",
          "y": 0.17333333333333334,
          "yanchor": "bottom",
          "yref": "paper"
         },
         {
          "font": {
           "size": 16
          },
          "showarrow": false,
          "text": "widowmaker",
          "x": 0.8555555555555556,
          "xanchor": "center",
          "xref": "paper",
          "y": 0.17333333333333334,
          "yanchor": "bottom",
          "yref": "paper"
         },
         {
          "font": {
           "size": 16
          },
          "showarrow": false,
          "text": "winston",
          "x": 0.14444444444444446,
          "xanchor": "center",
          "xref": "paper",
          "y": 0.10444444444444445,
          "yanchor": "bottom",
          "yref": "paper"
         },
         {
          "font": {
           "size": 16
          },
          "showarrow": false,
          "text": "wrecking-ball",
          "x": 0.5,
          "xanchor": "center",
          "xref": "paper",
          "y": 0.10444444444444445,
          "yanchor": "bottom",
          "yref": "paper"
         },
         {
          "font": {
           "size": 16
          },
          "showarrow": false,
          "text": "wuyang",
          "x": 0.8555555555555556,
          "xanchor": "center",
          "xref": "paper",
          "y": 0.10444444444444445,
          "yanchor": "bottom",
          "yref": "paper"
         },
         {
          "font": {
           "size": 16
          },
          "showarrow": false,
          "text": "zarya",
          "x": 0.14444444444444446,
          "xanchor": "center",
          "xref": "paper",
          "y": 0.035555555555555556,
          "yanchor": "bottom",
          "yref": "paper"
         },
         {
          "font": {
           "size": 16
          },
          "showarrow": false,
          "text": "zenyatta",
          "x": 0.5,
          "xanchor": "center",
          "xref": "paper",
          "y": 0.035555555555555556,
          "yanchor": "bottom",
          "yref": "paper"
         }
        ],
        "height": 4500,
        "template": {
         "data": {
          "bar": [
           {
            "error_x": {
             "color": "#2a3f5f"
            },
            "error_y": {
             "color": "#2a3f5f"
            },
            "marker": {
             "line": {
              "color": "white",
              "width": 0.5
             },
             "pattern": {
              "fillmode": "overlay",
              "size": 10,
              "solidity": 0.2
             }
            },
            "type": "bar"
           }
          ],
          "barpolar": [
           {
            "marker": {
             "line": {
              "color": "white",
              "width": 0.5
             },
             "pattern": {
              "fillmode": "overlay",
              "size": 10,
              "solidity": 0.2
             }
            },
            "type": "barpolar"
           }
          ],
          "carpet": [
           {
            "aaxis": {
             "endlinecolor": "#2a3f5f",
             "gridcolor": "#C8D4E3",
             "linecolor": "#C8D4E3",
             "minorgridcolor": "#C8D4E3",
             "startlinecolor": "#2a3f5f"
            },
            "baxis": {
             "endlinecolor": "#2a3f5f",
             "gridcolor": "#C8D4E3",
             "linecolor": "#C8D4E3",
             "minorgridcolor": "#C8D4E3",
             "startlinecolor": "#2a3f5f"
            },
            "type": "carpet"
           }
          ],
          "choropleth": [
           {
            "colorbar": {
             "outlinewidth": 0,
             "ticks": ""
            },
            "type": "choropleth"
           }
          ],
          "contour": [
           {
            "colorbar": {
             "outlinewidth": 0,
             "ticks": ""
            },
            "colorscale": [
             [
              0,
              "#0d0887"
             ],
             [
              0.1111111111111111,
              "#46039f"
             ],
             [
              0.2222222222222222,
              "#7201a8"
             ],
             [
              0.3333333333333333,
              "#9c179e"
             ],
             [
              0.4444444444444444,
              "#bd3786"
             ],
             [
              0.5555555555555556,
              "#d8576b"
             ],
             [
              0.6666666666666666,
              "#ed7953"
             ],
             [
              0.7777777777777778,
              "#fb9f3a"
             ],
             [
              0.8888888888888888,
              "#fdca26"
             ],
             [
              1,
              "#f0f921"
             ]
            ],
            "type": "contour"
           }
          ],
          "contourcarpet": [
           {
            "colorbar": {
             "outlinewidth": 0,
             "ticks": ""
            },
            "type": "contourcarpet"
           }
          ],
          "heatmap": [
           {
            "colorbar": {
             "outlinewidth": 0,
             "ticks": ""
            },
            "colorscale": [
             [
              0,
              "#0d0887"
             ],
             [
              0.1111111111111111,
              "#46039f"
             ],
             [
              0.2222222222222222,
              "#7201a8"
             ],
             [
              0.3333333333333333,
              "#9c179e"
             ],
             [
              0.4444444444444444,
              "#bd3786"
             ],
             [
              0.5555555555555556,
              "#d8576b"
             ],
             [
              0.6666666666666666,
              "#ed7953"
             ],
             [
              0.7777777777777778,
              "#fb9f3a"
             ],
             [
              0.8888888888888888,
              "#fdca26"
             ],
             [
              1,
              "#f0f921"
             ]
            ],
            "type": "heatmap"
           }
          ],
          "histogram": [
           {
            "marker": {
             "pattern": {
              "fillmode": "overlay",
              "size": 10,
              "solidity": 0.2
             }
            },
            "type": "histogram"
           }
          ],
          "histogram2d": [
           {
            "colorbar": {
             "outlinewidth": 0,
             "ticks": ""
            },
            "colorscale": [
             [
              0,
              "#0d0887"
             ],
             [
              0.1111111111111111,
              "#46039f"
             ],
             [
              0.2222222222222222,
              "#7201a8"
             ],
             [
              0.3333333333333333,
              "#9c179e"
             ],
             [
              0.4444444444444444,
              "#bd3786"
             ],
             [
              0.5555555555555556,
              "#d8576b"
             ],
             [
              0.6666666666666666,
              "#ed7953"
             ],
             [
              0.7777777777777778,
              "#fb9f3a"
             ],
             [
              0.8888888888888888,
              "#fdca26"
             ],
             [
              1,
              "#f0f921"
             ]
            ],
            "type": "histogram2d"
           }
          ],
          "histogram2dcontour": [
           {
            "colorbar": {
             "outlinewidth": 0,
             "ticks": ""
            },
            "colorscale": [
             [
              0,
              "#0d0887"
             ],
             [
              0.1111111111111111,
              "#46039f"
             ],
             [
              0.2222222222222222,
              "#7201a8"
             ],
             [
              0.3333333333333333,
              "#9c179e"
             ],
             [
              0.4444444444444444,
              "#bd3786"
             ],
             [
              0.5555555555555556,
              "#d8576b"
             ],
             [
              0.6666666666666666,
              "#ed7953"
             ],
             [
              0.7777777777777778,
              "#fb9f3a"
             ],
             [
              0.8888888888888888,
              "#fdca26"
             ],
             [
              1,
              "#f0f921"
             ]
            ],
            "type": "histogram2dcontour"
           }
          ],
          "mesh3d": [
           {
            "colorbar": {
             "outlinewidth": 0,
             "ticks": ""
            },
            "type": "mesh3d"
           }
          ],
          "parcoords": [
           {
            "line": {
             "colorbar": {
              "outlinewidth": 0,
              "ticks": ""
             }
            },
            "type": "parcoords"
           }
          ],
          "pie": [
           {
            "automargin": true,
            "type": "pie"
           }
          ],
          "scatter": [
           {
            "fillpattern": {
             "fillmode": "overlay",
             "size": 10,
             "solidity": 0.2
            },
            "type": "scatter"
           }
          ],
          "scatter3d": [
           {
            "line": {
             "colorbar": {
              "outlinewidth": 0,
              "ticks": ""
             }
            },
            "marker": {
             "colorbar": {
              "outlinewidth": 0,
              "ticks": ""
             }
            },
            "type": "scatter3d"
           }
          ],
          "scattercarpet": [
           {
            "marker": {
             "colorbar": {
              "outlinewidth": 0,
              "ticks": ""
             }
            },
            "type": "scattercarpet"
           }
          ],
          "scattergeo": [
           {
            "marker": {
             "colorbar": {
              "outlinewidth": 0,
              "ticks": ""
             }
            },
            "type": "scattergeo"
           }
          ],
          "scattergl": [
           {
            "marker": {
             "colorbar": {
              "outlinewidth": 0,
              "ticks": ""
             }
            },
            "type": "scattergl"
           }
          ],
          "scattermap": [
           {
            "marker": {
             "colorbar": {
              "outlinewidth": 0,
              "ticks": ""
             }
            },
            "type": "scattermap"
           }
          ],
          "scattermapbox": [
           {
            "marker": {
             "colorbar": {
              "outlinewidth": 0,
              "ticks": ""
             }
            },
            "type": "scattermapbox"
           }
          ],
          "scatterpolar": [
           {
            "marker": {
             "colorbar": {
              "outlinewidth": 0,
              "ticks": ""
             }
            },
            "type": "scatterpolar"
           }
          ],
          "scatterpolargl": [
           {
            "marker": {
             "colorbar": {
              "outlinewidth": 0,
              "ticks": ""
             }
            },
            "type": "scatterpolargl"
           }
          ],
          "scatterternary": [
           {
            "marker": {
             "colorbar": {
              "outlinewidth": 0,
              "ticks": ""
             }
            },
            "type": "scatterternary"
           }
          ],
          "surface": [
           {
            "colorbar": {
             "outlinewidth": 0,
             "ticks": ""
            },
            "colorscale": [
             [
              0,
              "#0d0887"
             ],
             [
              0.1111111111111111,
              "#46039f"
             ],
             [
              0.2222222222222222,
              "#7201a8"
             ],
             [
              0.3333333333333333,
              "#9c179e"
             ],
             [
              0.4444444444444444,
              "#bd3786"
             ],
             [
              0.5555555555555556,
              "#d8576b"
             ],
             [
              0.6666666666666666,
              "#ed7953"
             ],
             [
              0.7777777777777778,
              "#fb9f3a"
             ],
             [
              0.8888888888888888,
              "#fdca26"
             ],
             [
              1,
              "#f0f921"
             ]
            ],
            "type": "surface"
           }
          ],
          "table": [
           {
            "cells": {
             "fill": {
              "color": "#EBF0F8"
             },
             "line": {
              "color": "white"
             }
            },
            "header": {
             "fill": {
              "color": "#C8D4E3"
             },
             "line": {
              "color": "white"
             }
            },
            "type": "table"
           }
          ]
         },
         "layout": {
          "annotationdefaults": {
           "arrowcolor": "#2a3f5f",
           "arrowhead": 0,
           "arrowwidth": 1
          },
          "autotypenumbers": "strict",
          "coloraxis": {
           "colorbar": {
            "outlinewidth": 0,
            "ticks": ""
           }
          },
          "colorscale": {
           "diverging": [
            [
             0,
             "#8e0152"
            ],
            [
             0.1,
             "#c51b7d"
            ],
            [
             0.2,
             "#de77ae"
            ],
            [
             0.3,
             "#f1b6da"
            ],
            [
             0.4,
             "#fde0ef"
            ],
            [
             0.5,
             "#f7f7f7"
            ],
            [
             0.6,
             "#e6f5d0"
            ],
            [
             0.7,
             "#b8e186"
            ],
            [
             0.8,
             "#7fbc41"
            ],
            [
             0.9,
             "#4d9221"
            ],
            [
             1,
             "#276419"
            ]
           ],
           "sequential": [
            [
             0,
             "#0d0887"
            ],
            [
             0.1111111111111111,
             "#46039f"
            ],
            [
             0.2222222222222222,
             "#7201a8"
            ],
            [
             0.3333333333333333,
             "#9c179e"
            ],
            [
             0.4444444444444444,
             "#bd3786"
            ],
            [
             0.5555555555555556,
             "#d8576b"
            ],
            [
             0.6666666666666666,
             "#ed7953"
            ],
            [
             0.7777777777777778,
             "#fb9f3a"
            ],
            [
             0.8888888888888888,
             "#fdca26"
            ],
            [
             1,
             "#f0f921"
            ]
           ],
           "sequentialminus": [
            [
             0,
             "#0d0887"
            ],
            [
             0.1111111111111111,
             "#46039f"
            ],
            [
             0.2222222222222222,
             "#7201a8"
            ],
            [
             0.3333333333333333,
             "#9c179e"
            ],
            [
             0.4444444444444444,
             "#bd3786"
            ],
            [
             0.5555555555555556,
             "#d8576b"
            ],
            [
             0.6666666666666666,
             "#ed7953"
            ],
            [
             0.7777777777777778,
             "#fb9f3a"
            ],
            [
             0.8888888888888888,
             "#fdca26"
            ],
            [
             1,
             "#f0f921"
            ]
           ]
          },
          "colorway": [
           "#636efa",
           "#EF553B",
           "#00cc96",
           "#ab63fa",
           "#FFA15A",
           "#19d3f3",
           "#FF6692",
           "#B6E880",
           "#FF97FF",
           "#FECB52"
          ],
          "font": {
           "color": "#2a3f5f"
          },
          "geo": {
           "bgcolor": "white",
           "lakecolor": "white",
           "landcolor": "white",
           "showlakes": true,
           "showland": true,
           "subunitcolor": "#C8D4E3"
          },
          "hoverlabel": {
           "align": "left"
          },
          "hovermode": "closest",
          "mapbox": {
           "style": "light"
          },
          "paper_bgcolor": "white",
          "plot_bgcolor": "white",
          "polar": {
           "angularaxis": {
            "gridcolor": "#EBF0F8",
            "linecolor": "#EBF0F8",
            "ticks": ""
           },
           "bgcolor": "white",
           "radialaxis": {
            "gridcolor": "#EBF0F8",
            "linecolor": "#EBF0F8",
            "ticks": ""
           }
          },
          "scene": {
           "xaxis": {
            "backgroundcolor": "white",
            "gridcolor": "#DFE8F3",
            "gridwidth": 2,
            "linecolor": "#EBF0F8",
            "showbackground": true,
            "ticks": "",
            "zerolinecolor": "#EBF0F8"
           },
           "yaxis": {
            "backgroundcolor": "white",
            "gridcolor": "#DFE8F3",
            "gridwidth": 2,
            "linecolor": "#EBF0F8",
            "showbackground": true,
            "ticks": "",
            "zerolinecolor": "#EBF0F8"
           },
           "zaxis": {
            "backgroundcolor": "white",
            "gridcolor": "#DFE8F3",
            "gridwidth": 2,
            "linecolor": "#EBF0F8",
            "showbackground": true,
            "ticks": "",
            "zerolinecolor": "#EBF0F8"
           }
          },
          "shapedefaults": {
           "line": {
            "color": "#2a3f5f"
           }
          },
          "ternary": {
           "aaxis": {
            "gridcolor": "#DFE8F3",
            "linecolor": "#A2B1C6",
            "ticks": ""
           },
           "baxis": {
            "gridcolor": "#DFE8F3",
            "linecolor": "#A2B1C6",
            "ticks": ""
           },
           "bgcolor": "white",
           "caxis": {
            "gridcolor": "#DFE8F3",
            "linecolor": "#A2B1C6",
            "ticks": ""
           }
          },
          "title": {
           "x": 0.05
          },
          "xaxis": {
           "automargin": true,
           "gridcolor": "#EBF0F8",
           "linecolor": "#EBF0F8",
           "ticks": "",
           "title": {
            "standoff": 15
           },
           "zerolinecolor": "#EBF0F8",
           "zerolinewidth": 2
          },
          "yaxis": {
           "automargin": true,
           "gridcolor": "#EBF0F8",
           "linecolor": "#EBF0F8",
           "ticks": "",
           "title": {
            "standoff": 15
           },
           "zerolinecolor": "#EBF0F8",
           "zerolinewidth": 2
          }
         }
        },
        "title": {
         "text": "Winrate by Tier for Each Hero"
        },
        "width": 1200,
        "xaxis": {
         "anchor": "y",
         "domain": [
          0,
          0.2888888888888889
         ],
         "ticktext": [
          "Bronze",
          "Silver",
          "Gold",
          "Platinum",
          "Diamond",
          "Master",
          "Grandmaster"
         ],
         "tickvals": [
          0,
          1,
          2,
          3,
          4,
          5,
          6
         ]
        },
        "xaxis10": {
         "anchor": "y10",
         "domain": [
          0,
          0.2888888888888889
         ],
         "ticktext": [
          "Bronze",
          "Silver",
          "Gold",
          "Platinum",
          "Diamond",
          "Master",
          "Grandmaster"
         ],
         "tickvals": [
          0,
          1,
          2,
          3,
          4,
          5,
          6
         ]
        },
        "xaxis11": {
         "anchor": "y11",
         "domain": [
          0.35555555555555557,
          0.6444444444444445
         ],
         "ticktext": [
          "Bronze",
          "Silver",
          "Gold",
          "Platinum",
          "Diamond",
          "Master",
          "Grandmaster"
         ],
         "tickvals": [
          0,
          1,
          2,
          3,
          4,
          5,
          6
         ]
        },
        "xaxis12": {
         "anchor": "y12",
         "domain": [
          0.7111111111111111,
          1
         ],
         "ticktext": [
          "Bronze",
          "Silver",
          "Gold",
          "Platinum",
          "Diamond",
          "Master",
          "Grandmaster"
         ],
         "tickvals": [
          0,
          1,
          2,
          3,
          4,
          5,
          6
         ]
        },
        "xaxis13": {
         "anchor": "y13",
         "domain": [
          0,
          0.2888888888888889
         ],
         "ticktext": [
          "Bronze",
          "Silver",
          "Gold",
          "Platinum",
          "Diamond",
          "Master",
          "Grandmaster"
         ],
         "tickvals": [
          0,
          1,
          2,
          3,
          4,
          5,
          6
         ]
        },
        "xaxis14": {
         "anchor": "y14",
         "domain": [
          0.35555555555555557,
          0.6444444444444445
         ],
         "ticktext": [
          "Bronze",
          "Silver",
          "Gold",
          "Platinum",
          "Diamond",
          "Master",
          "Grandmaster"
         ],
         "tickvals": [
          0,
          1,
          2,
          3,
          4,
          5,
          6
         ]
        },
        "xaxis15": {
         "anchor": "y15",
         "domain": [
          0.7111111111111111,
          1
         ],
         "ticktext": [
          "Bronze",
          "Silver",
          "Gold",
          "Platinum",
          "Diamond",
          "Master",
          "Grandmaster"
         ],
         "tickvals": [
          0,
          1,
          2,
          3,
          4,
          5,
          6
         ]
        },
        "xaxis16": {
         "anchor": "y16",
         "domain": [
          0,
          0.2888888888888889
         ],
         "ticktext": [
          "Bronze",
          "Silver",
          "Gold",
          "Platinum",
          "Diamond",
          "Master",
          "Grandmaster"
         ],
         "tickvals": [
          0,
          1,
          2,
          3,
          4,
          5,
          6
         ]
        },
        "xaxis17": {
         "anchor": "y17",
         "domain": [
          0.35555555555555557,
          0.6444444444444445
         ],
         "ticktext": [
          "Bronze",
          "Silver",
          "Gold",
          "Platinum",
          "Diamond",
          "Master",
          "Grandmaster"
         ],
         "tickvals": [
          0,
          1,
          2,
          3,
          4,
          5,
          6
         ]
        },
        "xaxis18": {
         "anchor": "y18",
         "domain": [
          0.7111111111111111,
          1
         ],
         "ticktext": [
          "Bronze",
          "Silver",
          "Gold",
          "Platinum",
          "Diamond",
          "Master",
          "Grandmaster"
         ],
         "tickvals": [
          0,
          1,
          2,
          3,
          4,
          5,
          6
         ]
        },
        "xaxis19": {
         "anchor": "y19",
         "domain": [
          0,
          0.2888888888888889
         ],
         "ticktext": [
          "Bronze",
          "Silver",
          "Gold",
          "Platinum",
          "Diamond",
          "Master",
          "Grandmaster"
         ],
         "tickvals": [
          0,
          1,
          2,
          3,
          4,
          5,
          6
         ]
        },
        "xaxis2": {
         "anchor": "y2",
         "domain": [
          0.35555555555555557,
          0.6444444444444445
         ],
         "ticktext": [
          "Bronze",
          "Silver",
          "Gold",
          "Platinum",
          "Diamond",
          "Master",
          "Grandmaster"
         ],
         "tickvals": [
          0,
          1,
          2,
          3,
          4,
          5,
          6
         ]
        },
        "xaxis20": {
         "anchor": "y20",
         "domain": [
          0.35555555555555557,
          0.6444444444444445
         ],
         "ticktext": [
          "Bronze",
          "Silver",
          "Gold",
          "Platinum",
          "Diamond",
          "Master",
          "Grandmaster"
         ],
         "tickvals": [
          0,
          1,
          2,
          3,
          4,
          5,
          6
         ]
        },
        "xaxis21": {
         "anchor": "y21",
         "domain": [
          0.7111111111111111,
          1
         ],
         "ticktext": [
          "Bronze",
          "Silver",
          "Gold",
          "Platinum",
          "Diamond",
          "Master",
          "Grandmaster"
         ],
         "tickvals": [
          0,
          1,
          2,
          3,
          4,
          5,
          6
         ]
        },
        "xaxis22": {
         "anchor": "y22",
         "domain": [
          0,
          0.2888888888888889
         ],
         "ticktext": [
          "Bronze",
          "Silver",
          "Gold",
          "Platinum",
          "Diamond",
          "Master",
          "Grandmaster"
         ],
         "tickvals": [
          0,
          1,
          2,
          3,
          4,
          5,
          6
         ]
        },
        "xaxis23": {
         "anchor": "y23",
         "domain": [
          0.35555555555555557,
          0.6444444444444445
         ],
         "ticktext": [
          "Bronze",
          "Silver",
          "Gold",
          "Platinum",
          "Diamond",
          "Master",
          "Grandmaster"
         ],
         "tickvals": [
          0,
          1,
          2,
          3,
          4,
          5,
          6
         ]
        },
        "xaxis24": {
         "anchor": "y24",
         "domain": [
          0.7111111111111111,
          1
         ],
         "ticktext": [
          "Bronze",
          "Silver",
          "Gold",
          "Platinum",
          "Diamond",
          "Master",
          "Grandmaster"
         ],
         "tickvals": [
          0,
          1,
          2,
          3,
          4,
          5,
          6
         ]
        },
        "xaxis25": {
         "anchor": "y25",
         "domain": [
          0,
          0.2888888888888889
         ],
         "ticktext": [
          "Bronze",
          "Silver",
          "Gold",
          "Platinum",
          "Diamond",
          "Master",
          "Grandmaster"
         ],
         "tickvals": [
          0,
          1,
          2,
          3,
          4,
          5,
          6
         ]
        },
        "xaxis26": {
         "anchor": "y26",
         "domain": [
          0.35555555555555557,
          0.6444444444444445
         ],
         "ticktext": [
          "Bronze",
          "Silver",
          "Gold",
          "Platinum",
          "Diamond",
          "Master",
          "Grandmaster"
         ],
         "tickvals": [
          0,
          1,
          2,
          3,
          4,
          5,
          6
         ]
        },
        "xaxis27": {
         "anchor": "y27",
         "domain": [
          0.7111111111111111,
          1
         ],
         "ticktext": [
          "Bronze",
          "Silver",
          "Gold",
          "Platinum",
          "Diamond",
          "Master",
          "Grandmaster"
         ],
         "tickvals": [
          0,
          1,
          2,
          3,
          4,
          5,
          6
         ]
        },
        "xaxis28": {
         "anchor": "y28",
         "domain": [
          0,
          0.2888888888888889
         ],
         "ticktext": [
          "Bronze",
          "Silver",
          "Gold",
          "Platinum",
          "Diamond",
          "Master",
          "Grandmaster"
         ],
         "tickvals": [
          0,
          1,
          2,
          3,
          4,
          5,
          6
         ]
        },
        "xaxis29": {
         "anchor": "y29",
         "domain": [
          0.35555555555555557,
          0.6444444444444445
         ],
         "ticktext": [
          "Bronze",
          "Silver",
          "Gold",
          "Platinum",
          "Diamond",
          "Master",
          "Grandmaster"
         ],
         "tickvals": [
          0,
          1,
          2,
          3,
          4,
          5,
          6
         ]
        },
        "xaxis3": {
         "anchor": "y3",
         "domain": [
          0.7111111111111111,
          1
         ],
         "ticktext": [
          "Bronze",
          "Silver",
          "Gold",
          "Platinum",
          "Diamond",
          "Master",
          "Grandmaster"
         ],
         "tickvals": [
          0,
          1,
          2,
          3,
          4,
          5,
          6
         ]
        },
        "xaxis30": {
         "anchor": "y30",
         "domain": [
          0.7111111111111111,
          1
         ],
         "ticktext": [
          "Bronze",
          "Silver",
          "Gold",
          "Platinum",
          "Diamond",
          "Master",
          "Grandmaster"
         ],
         "tickvals": [
          0,
          1,
          2,
          3,
          4,
          5,
          6
         ]
        },
        "xaxis31": {
         "anchor": "y31",
         "domain": [
          0,
          0.2888888888888889
         ],
         "ticktext": [
          "Bronze",
          "Silver",
          "Gold",
          "Platinum",
          "Diamond",
          "Master",
          "Grandmaster"
         ],
         "tickvals": [
          0,
          1,
          2,
          3,
          4,
          5,
          6
         ]
        },
        "xaxis32": {
         "anchor": "y32",
         "domain": [
          0.35555555555555557,
          0.6444444444444445
         ],
         "ticktext": [
          "Bronze",
          "Silver",
          "Gold",
          "Platinum",
          "Diamond",
          "Master",
          "Grandmaster"
         ],
         "tickvals": [
          0,
          1,
          2,
          3,
          4,
          5,
          6
         ]
        },
        "xaxis33": {
         "anchor": "y33",
         "domain": [
          0.7111111111111111,
          1
         ],
         "ticktext": [
          "Bronze",
          "Silver",
          "Gold",
          "Platinum",
          "Diamond",
          "Master",
          "Grandmaster"
         ],
         "tickvals": [
          0,
          1,
          2,
          3,
          4,
          5,
          6
         ]
        },
        "xaxis34": {
         "anchor": "y34",
         "domain": [
          0,
          0.2888888888888889
         ],
         "ticktext": [
          "Bronze",
          "Silver",
          "Gold",
          "Platinum",
          "Diamond",
          "Master",
          "Grandmaster"
         ],
         "tickvals": [
          0,
          1,
          2,
          3,
          4,
          5,
          6
         ]
        },
        "xaxis35": {
         "anchor": "y35",
         "domain": [
          0.35555555555555557,
          0.6444444444444445
         ],
         "ticktext": [
          "Bronze",
          "Silver",
          "Gold",
          "Platinum",
          "Diamond",
          "Master",
          "Grandmaster"
         ],
         "tickvals": [
          0,
          1,
          2,
          3,
          4,
          5,
          6
         ]
        },
        "xaxis36": {
         "anchor": "y36",
         "domain": [
          0.7111111111111111,
          1
         ],
         "ticktext": [
          "Bronze",
          "Silver",
          "Gold",
          "Platinum",
          "Diamond",
          "Master",
          "Grandmaster"
         ],
         "tickvals": [
          0,
          1,
          2,
          3,
          4,
          5,
          6
         ]
        },
        "xaxis37": {
         "anchor": "y37",
         "domain": [
          0,
          0.2888888888888889
         ],
         "ticktext": [
          "Bronze",
          "Silver",
          "Gold",
          "Platinum",
          "Diamond",
          "Master",
          "Grandmaster"
         ],
         "tickvals": [
          0,
          1,
          2,
          3,
          4,
          5,
          6
         ]
        },
        "xaxis38": {
         "anchor": "y38",
         "domain": [
          0.35555555555555557,
          0.6444444444444445
         ],
         "ticktext": [
          "Bronze",
          "Silver",
          "Gold",
          "Platinum",
          "Diamond",
          "Master",
          "Grandmaster"
         ],
         "tickvals": [
          0,
          1,
          2,
          3,
          4,
          5,
          6
         ]
        },
        "xaxis39": {
         "anchor": "y39",
         "domain": [
          0.7111111111111111,
          1
         ],
         "ticktext": [
          "Bronze",
          "Silver",
          "Gold",
          "Platinum",
          "Diamond",
          "Master",
          "Grandmaster"
         ],
         "tickvals": [
          0,
          1,
          2,
          3,
          4,
          5,
          6
         ]
        },
        "xaxis4": {
         "anchor": "y4",
         "domain": [
          0,
          0.2888888888888889
         ],
         "ticktext": [
          "Bronze",
          "Silver",
          "Gold",
          "Platinum",
          "Diamond",
          "Master",
          "Grandmaster"
         ],
         "tickvals": [
          0,
          1,
          2,
          3,
          4,
          5,
          6
         ]
        },
        "xaxis40": {
         "anchor": "y40",
         "domain": [
          0,
          0.2888888888888889
         ],
         "ticktext": [
          "Bronze",
          "Silver",
          "Gold",
          "Platinum",
          "Diamond",
          "Master",
          "Grandmaster"
         ],
         "tickvals": [
          0,
          1,
          2,
          3,
          4,
          5,
          6
         ]
        },
        "xaxis41": {
         "anchor": "y41",
         "domain": [
          0.35555555555555557,
          0.6444444444444445
         ],
         "ticktext": [
          "Bronze",
          "Silver",
          "Gold",
          "Platinum",
          "Diamond",
          "Master",
          "Grandmaster"
         ],
         "tickvals": [
          0,
          1,
          2,
          3,
          4,
          5,
          6
         ]
        },
        "xaxis42": {
         "anchor": "y42",
         "domain": [
          0.7111111111111111,
          1
         ],
         "ticktext": [
          "Bronze",
          "Silver",
          "Gold",
          "Platinum",
          "Diamond",
          "Master",
          "Grandmaster"
         ],
         "tickvals": [
          0,
          1,
          2,
          3,
          4,
          5,
          6
         ]
        },
        "xaxis43": {
         "anchor": "y43",
         "domain": [
          0,
          0.2888888888888889
         ],
         "ticktext": [
          "Bronze",
          "Silver",
          "Gold",
          "Platinum",
          "Diamond",
          "Master",
          "Grandmaster"
         ],
         "tickvals": [
          0,
          1,
          2,
          3,
          4,
          5,
          6
         ]
        },
        "xaxis44": {
         "anchor": "y44",
         "domain": [
          0.35555555555555557,
          0.6444444444444445
         ],
         "ticktext": [
          "Bronze",
          "Silver",
          "Gold",
          "Platinum",
          "Diamond",
          "Master",
          "Grandmaster"
         ],
         "tickvals": [
          0,
          1,
          2,
          3,
          4,
          5,
          6
         ]
        },
        "xaxis45": {
         "anchor": "y45",
         "domain": [
          0.7111111111111111,
          1
         ]
        },
        "xaxis5": {
         "anchor": "y5",
         "domain": [
          0.35555555555555557,
          0.6444444444444445
         ],
         "ticktext": [
          "Bronze",
          "Silver",
          "Gold",
          "Platinum",
          "Diamond",
          "Master",
          "Grandmaster"
         ],
         "tickvals": [
          0,
          1,
          2,
          3,
          4,
          5,
          6
         ]
        },
        "xaxis6": {
         "anchor": "y6",
         "domain": [
          0.7111111111111111,
          1
         ],
         "ticktext": [
          "Bronze",
          "Silver",
          "Gold",
          "Platinum",
          "Diamond",
          "Master",
          "Grandmaster"
         ],
         "tickvals": [
          0,
          1,
          2,
          3,
          4,
          5,
          6
         ]
        },
        "xaxis7": {
         "anchor": "y7",
         "domain": [
          0,
          0.2888888888888889
         ],
         "ticktext": [
          "Bronze",
          "Silver",
          "Gold",
          "Platinum",
          "Diamond",
          "Master",
          "Grandmaster"
         ],
         "tickvals": [
          0,
          1,
          2,
          3,
          4,
          5,
          6
         ]
        },
        "xaxis8": {
         "anchor": "y8",
         "domain": [
          0.35555555555555557,
          0.6444444444444445
         ],
         "ticktext": [
          "Bronze",
          "Silver",
          "Gold",
          "Platinum",
          "Diamond",
          "Master",
          "Grandmaster"
         ],
         "tickvals": [
          0,
          1,
          2,
          3,
          4,
          5,
          6
         ]
        },
        "xaxis9": {
         "anchor": "y9",
         "domain": [
          0.7111111111111111,
          1
         ],
         "ticktext": [
          "Bronze",
          "Silver",
          "Gold",
          "Platinum",
          "Diamond",
          "Master",
          "Grandmaster"
         ],
         "tickvals": [
          0,
          1,
          2,
          3,
          4,
          5,
          6
         ]
        },
        "yaxis": {
         "anchor": "x",
         "domain": [
          0.9644444444444444,
          1
         ],
         "range": [
          20,
          80
         ]
        },
        "yaxis10": {
         "anchor": "x10",
         "domain": [
          0.7577777777777778,
          0.7933333333333333
         ],
         "range": [
          20,
          80
         ]
        },
        "yaxis11": {
         "anchor": "x11",
         "domain": [
          0.7577777777777778,
          0.7933333333333333
         ],
         "range": [
          20,
          80
         ]
        },
        "yaxis12": {
         "anchor": "x12",
         "domain": [
          0.7577777777777778,
          0.7933333333333333
         ],
         "range": [
          20,
          80
         ]
        },
        "yaxis13": {
         "anchor": "x13",
         "domain": [
          0.6888888888888889,
          0.7244444444444444
         ],
         "range": [
          20,
          80
         ]
        },
        "yaxis14": {
         "anchor": "x14",
         "domain": [
          0.6888888888888889,
          0.7244444444444444
         ],
         "range": [
          20,
          80
         ]
        },
        "yaxis15": {
         "anchor": "x15",
         "domain": [
          0.6888888888888889,
          0.7244444444444444
         ],
         "range": [
          20,
          80
         ]
        },
        "yaxis16": {
         "anchor": "x16",
         "domain": [
          0.62,
          0.6555555555555556
         ],
         "range": [
          20,
          80
         ]
        },
        "yaxis17": {
         "anchor": "x17",
         "domain": [
          0.62,
          0.6555555555555556
         ],
         "range": [
          20,
          80
         ]
        },
        "yaxis18": {
         "anchor": "x18",
         "domain": [
          0.62,
          0.6555555555555556
         ],
         "range": [
          20,
          80
         ]
        },
        "yaxis19": {
         "anchor": "x19",
         "domain": [
          0.5511111111111111,
          0.5866666666666667
         ],
         "range": [
          20,
          80
         ]
        },
        "yaxis2": {
         "anchor": "x2",
         "domain": [
          0.9644444444444444,
          1
         ],
         "range": [
          20,
          80
         ]
        },
        "yaxis20": {
         "anchor": "x20",
         "domain": [
          0.5511111111111111,
          0.5866666666666667
         ],
         "range": [
          20,
          80
         ]
        },
        "yaxis21": {
         "anchor": "x21",
         "domain": [
          0.5511111111111111,
          0.5866666666666667
         ],
         "range": [
          20,
          80
         ]
        },
        "yaxis22": {
         "anchor": "x22",
         "domain": [
          0.4822222222222222,
          0.5177777777777778
         ],
         "range": [
          20,
          80
         ]
        },
        "yaxis23": {
         "anchor": "x23",
         "domain": [
          0.4822222222222222,
          0.5177777777777778
         ],
         "range": [
          20,
          80
         ]
        },
        "yaxis24": {
         "anchor": "x24",
         "domain": [
          0.4822222222222222,
          0.5177777777777778
         ],
         "range": [
          20,
          80
         ]
        },
        "yaxis25": {
         "anchor": "x25",
         "domain": [
          0.41333333333333333,
          0.4488888888888889
         ],
         "range": [
          20,
          80
         ]
        },
        "yaxis26": {
         "anchor": "x26",
         "domain": [
          0.41333333333333333,
          0.4488888888888889
         ],
         "range": [
          20,
          80
         ]
        },
        "yaxis27": {
         "anchor": "x27",
         "domain": [
          0.41333333333333333,
          0.4488888888888889
         ],
         "range": [
          20,
          80
         ]
        },
        "yaxis28": {
         "anchor": "x28",
         "domain": [
          0.34444444444444444,
          0.38
         ],
         "range": [
          20,
          80
         ]
        },
        "yaxis29": {
         "anchor": "x29",
         "domain": [
          0.34444444444444444,
          0.38
         ],
         "range": [
          20,
          80
         ]
        },
        "yaxis3": {
         "anchor": "x3",
         "domain": [
          0.9644444444444444,
          1
         ],
         "range": [
          20,
          80
         ]
        },
        "yaxis30": {
         "anchor": "x30",
         "domain": [
          0.34444444444444444,
          0.38
         ],
         "range": [
          20,
          80
         ]
        },
        "yaxis31": {
         "anchor": "x31",
         "domain": [
          0.27555555555555555,
          0.3111111111111111
         ],
         "range": [
          20,
          80
         ]
        },
        "yaxis32": {
         "anchor": "x32",
         "domain": [
          0.27555555555555555,
          0.3111111111111111
         ],
         "range": [
          20,
          80
         ]
        },
        "yaxis33": {
         "anchor": "x33",
         "domain": [
          0.27555555555555555,
          0.3111111111111111
         ],
         "range": [
          20,
          80
         ]
        },
        "yaxis34": {
         "anchor": "x34",
         "domain": [
          0.20666666666666667,
          0.24222222222222223
         ],
         "range": [
          20,
          80
         ]
        },
        "yaxis35": {
         "anchor": "x35",
         "domain": [
          0.20666666666666667,
          0.24222222222222223
         ],
         "range": [
          20,
          80
         ]
        },
        "yaxis36": {
         "anchor": "x36",
         "domain": [
          0.20666666666666667,
          0.24222222222222223
         ],
         "range": [
          20,
          80
         ]
        },
        "yaxis37": {
         "anchor": "x37",
         "domain": [
          0.13777777777777778,
          0.17333333333333334
         ],
         "range": [
          20,
          80
         ]
        },
        "yaxis38": {
         "anchor": "x38",
         "domain": [
          0.13777777777777778,
          0.17333333333333334
         ],
         "range": [
          20,
          80
         ]
        },
        "yaxis39": {
         "anchor": "x39",
         "domain": [
          0.13777777777777778,
          0.17333333333333334
         ],
         "range": [
          20,
          80
         ]
        },
        "yaxis4": {
         "anchor": "x4",
         "domain": [
          0.8955555555555557,
          0.9311111111111112
         ],
         "range": [
          20,
          80
         ]
        },
        "yaxis40": {
         "anchor": "x40",
         "domain": [
          0.06888888888888889,
          0.10444444444444445
         ],
         "range": [
          20,
          80
         ]
        },
        "yaxis41": {
         "anchor": "x41",
         "domain": [
          0.06888888888888889,
          0.10444444444444445
         ],
         "range": [
          20,
          80
         ]
        },
        "yaxis42": {
         "anchor": "x42",
         "domain": [
          0.06888888888888889,
          0.10444444444444445
         ],
         "range": [
          20,
          80
         ]
        },
        "yaxis43": {
         "anchor": "x43",
         "domain": [
          0,
          0.035555555555555556
         ],
         "range": [
          20,
          80
         ]
        },
        "yaxis44": {
         "anchor": "x44",
         "domain": [
          0,
          0.035555555555555556
         ],
         "range": [
          20,
          80
         ]
        },
        "yaxis45": {
         "anchor": "x45",
         "domain": [
          0,
          0.035555555555555556
         ]
        },
        "yaxis5": {
         "anchor": "x5",
         "domain": [
          0.8955555555555557,
          0.9311111111111112
         ],
         "range": [
          20,
          80
         ]
        },
        "yaxis6": {
         "anchor": "x6",
         "domain": [
          0.8955555555555557,
          0.9311111111111112
         ],
         "range": [
          20,
          80
         ]
        },
        "yaxis7": {
         "anchor": "x7",
         "domain": [
          0.8266666666666667,
          0.8622222222222222
         ],
         "range": [
          20,
          80
         ]
        },
        "yaxis8": {
         "anchor": "x8",
         "domain": [
          0.8266666666666667,
          0.8622222222222222
         ],
         "range": [
          20,
          80
         ]
        },
        "yaxis9": {
         "anchor": "x9",
         "domain": [
          0.8266666666666667,
          0.8622222222222222
         ],
         "range": [
          20,
          80
         ]
        }
       }
      }
     },
     "metadata": {},
     "output_type": "display_data"
    },
    {
     "data": {
      "application/vnd.plotly.v1+json": {
       "config": {
        "plotlyServerURL": "https://plot.ly"
       },
       "data": [
        {
         "line": {
          "color": "#48699E",
          "width": 2
         },
         "mode": "lines+markers",
         "name": "ana",
         "type": "scatter",
         "visible": true,
         "x": [
          "Bronze",
          "Silver",
          "Gold",
          "Platinum",
          "Diamond",
          "Master",
          "Grandmaster"
         ],
         "y": [
          46,
          47.3,
          48.8,
          49,
          47.7,
          48.1,
          49.8
         ]
        },
        {
         "line": {
          "color": "#3E3C3A",
          "width": 2
         },
         "mode": "lines+markers",
         "name": "ashe",
         "type": "scatter",
         "visible": "legendonly",
         "x": [
          "Bronze",
          "Silver",
          "Gold",
          "Platinum",
          "Diamond",
          "Master",
          "Grandmaster"
         ],
         "y": [
          53.6,
          51.1,
          50,
          49.8,
          49.8,
          46.1,
          19.8
         ]
        },
        {
         "line": {
          "color": "#28A5C3",
          "width": 2
         },
         "mode": "lines+markers",
         "name": "baptiste",
         "type": "scatter",
         "visible": "legendonly",
         "x": [
          "Bronze",
          "Silver",
          "Gold",
          "Platinum",
          "Diamond",
          "Master",
          "Grandmaster"
         ],
         "y": [
          48.3,
          45.3,
          46.1,
          47.1,
          50.4,
          50.5,
          41.1
         ]
        },
        {
         "line": {
          "color": "#5B7351",
          "width": 2
         },
         "mode": "lines+markers",
         "name": "bastion",
         "type": "scatter",
         "visible": "legendonly",
         "x": [
          "Bronze",
          "Silver",
          "Gold",
          "Platinum",
          "Diamond",
          "Master",
          "Grandmaster"
         ],
         "y": [
          51.7,
          48.2,
          45.5,
          45.7,
          43.8,
          52.7,
          55.4
         ]
        },
        {
         "line": {
          "color": "#72332A",
          "width": 2
         },
         "mode": "lines+markers",
         "name": "brigitte",
         "type": "scatter",
         "visible": "legendonly",
         "x": [
          "Bronze",
          "Silver",
          "Gold",
          "Platinum",
          "Diamond",
          "Master",
          "Grandmaster"
         ],
         "y": [
          42.6,
          50,
          49,
          46.7,
          46.3,
          46.8,
          19.2
         ]
        },
        {
         "line": {
          "color": "#A62927",
          "width": 2
         },
         "mode": "lines+markers",
         "name": "cassidy",
         "type": "scatter",
         "visible": "legendonly",
         "x": [
          "Bronze",
          "Silver",
          "Gold",
          "Platinum",
          "Diamond",
          "Master",
          "Grandmaster"
         ],
         "y": [
          47.8,
          49.1,
          48.3,
          47.1,
          46.7,
          45.8,
          54.8
         ]
        },
        {
         "line": {
          "color": "#FC79BD",
          "width": 2
         },
         "mode": "lines+markers",
         "name": "dva",
         "type": "scatter",
         "visible": "legendonly",
         "x": [
          "Bronze",
          "Silver",
          "Gold",
          "Platinum",
          "Diamond",
          "Master",
          "Grandmaster"
         ],
         "y": [
          46.7,
          47.4,
          47.8,
          50.3,
          50.8,
          55,
          48.4
         ]
        },
        {
         "line": {
          "color": "#661E0F",
          "width": 2
         },
         "mode": "lines+markers",
         "name": "doomfist",
         "type": "scatter",
         "visible": "legendonly",
         "x": [
          "Bronze",
          "Silver",
          "Gold",
          "Platinum",
          "Diamond",
          "Master",
          "Grandmaster"
         ],
         "y": [
          48.8,
          55.5,
          56.5,
          54,
          50.8,
          45.1,
          90.2
         ]
        },
        {
         "line": {
          "color": "#89C8FF",
          "width": 2
         },
         "mode": "lines+markers",
         "name": "echo",
         "type": "scatter",
         "visible": "legendonly",
         "x": [
          "Bronze",
          "Silver",
          "Gold",
          "Platinum",
          "Diamond",
          "Master",
          "Grandmaster"
         ],
         "y": [
          41.2,
          48,
          48.4,
          50.3,
          49.6,
          53.2,
          50.5
         ]
        },
        {
         "line": {
          "color": "#3F93FF",
          "width": 2
         },
         "mode": "lines+markers",
         "name": "freja",
         "type": "scatter",
         "visible": "legendonly",
         "x": [
          "Bronze",
          "Silver",
          "Gold",
          "Platinum",
          "Diamond",
          "Master",
          "Grandmaster"
         ],
         "y": [
          47.5,
          44.8,
          45.3,
          46.4,
          50.6,
          46.6,
          54.3
         ]
        },
        {
         "line": {
          "color": "#80FB00",
          "width": 2
         },
         "mode": "lines+markers",
         "name": "genji",
         "type": "scatter",
         "visible": "legendonly",
         "x": [
          "Bronze",
          "Silver",
          "Gold",
          "Platinum",
          "Diamond",
          "Master",
          "Grandmaster"
         ],
         "y": [
          52.8,
          56,
          56.4,
          55.9,
          53.6,
          51.1,
          58.8
         ]
        },
        {
         "line": {
          "color": "#B2A865",
          "width": 2
         },
         "mode": "lines+markers",
         "name": "hanzo",
         "type": "scatter",
         "visible": "legendonly",
         "x": [
          "Bronze",
          "Silver",
          "Gold",
          "Platinum",
          "Diamond",
          "Master",
          "Grandmaster"
         ],
         "y": [
          52.1,
          51.9,
          53.2,
          51.8,
          49.9,
          50,
          40.2
         ]
        },
        {
         "line": {
          "color": "#985EC0",
          "width": 2
         },
         "mode": "lines+markers",
         "name": "hazard",
         "type": "scatter",
         "visible": "legendonly",
         "x": [
          "Bronze",
          "Silver",
          "Gold",
          "Platinum",
          "Diamond",
          "Master",
          "Grandmaster"
         ],
         "y": [
          51.6,
          49.9,
          51,
          53.3,
          51.8,
          46.9,
          41.7
         ]
        },
        {
         "line": {
          "color": "#A58C54",
          "width": 2
         },
         "mode": "lines+markers",
         "name": "illari",
         "type": "scatter",
         "visible": "legendonly",
         "x": [
          "Bronze",
          "Silver",
          "Gold",
          "Platinum",
          "Diamond",
          "Master",
          "Grandmaster"
         ],
         "y": [
          49,
          48.1,
          50.2,
          51.9,
          54.1,
          48.5,
          73.7
         ]
        },
        {
         "line": {
          "color": "#579FCF",
          "width": 2
         },
         "mode": "lines+markers",
         "name": "junker-queen",
         "type": "scatter",
         "visible": "legendonly",
         "x": [
          "Bronze",
          "Silver",
          "Gold",
          "Platinum",
          "Diamond",
          "Master",
          "Grandmaster"
         ],
         "y": [
          57,
          52.8,
          54.7,
          55.3,
          57.1,
          55,
          40.2
         ]
        },
        {
         "line": {
          "color": "#F7B217",
          "width": 2
         },
         "mode": "lines+markers",
         "name": "junkrat",
         "type": "scatter",
         "visible": "legendonly",
         "x": [
          "Bronze",
          "Silver",
          "Gold",
          "Platinum",
          "Diamond",
          "Master",
          "Grandmaster"
         ],
         "y": [
          47.7,
          46.8,
          45.8,
          46.7,
          46.6,
          49,
          50
         ]
        },
        {
         "line": {
          "color": "#721FA3",
          "width": 2
         },
         "mode": "lines+markers",
         "name": "juno",
         "type": "scatter",
         "visible": "legendonly",
         "x": [
          "Bronze",
          "Silver",
          "Gold",
          "Platinum",
          "Diamond",
          "Master",
          "Grandmaster"
         ],
         "y": [
          46.9,
          49.5,
          49.4,
          49.6,
          47.3,
          44.6,
          20.5
         ]
        },
        {
         "line": {
          "color": "#D04656",
          "width": 2
         },
         "mode": "lines+markers",
         "name": "kiriko",
         "type": "scatter",
         "visible": "legendonly",
         "x": [
          "Bronze",
          "Silver",
          "Gold",
          "Platinum",
          "Diamond",
          "Master",
          "Grandmaster"
         ],
         "y": [
          49.8,
          46.7,
          45.9,
          45.8,
          45.3,
          46.9,
          67.1
         ]
        },
        {
         "line": {
          "color": "#E1A5BA",
          "width": 2
         },
         "mode": "lines+markers",
         "name": "lifeweaver",
         "type": "scatter",
         "visible": "legendonly",
         "x": [
          "Bronze",
          "Silver",
          "Gold",
          "Platinum",
          "Diamond",
          "Master",
          "Grandmaster"
         ],
         "y": [
          45.9,
          45.5,
          44.1,
          44.7,
          43.6,
          42.9,
          -1
         ]
        },
        {
         "line": {
          "color": "#67C519",
          "width": 2
         },
         "mode": "lines+markers",
         "name": "lucio",
         "type": "scatter",
         "visible": "legendonly",
         "x": [
          "Bronze",
          "Silver",
          "Gold",
          "Platinum",
          "Diamond",
          "Master",
          "Grandmaster"
         ],
         "y": [
          50.5,
          55.1,
          54.8,
          53.8,
          55.1,
          56.7,
          44
         ]
        },
        {
         "line": {
          "color": "#DB4216",
          "width": 2
         },
         "mode": "lines+markers",
         "name": "mauga",
         "type": "scatter",
         "visible": "legendonly",
         "x": [
          "Bronze",
          "Silver",
          "Gold",
          "Platinum",
          "Diamond",
          "Master",
          "Grandmaster"
         ],
         "y": [
          48.7,
          48.8,
          46.5,
          48.4,
          51.8,
          44.4,
          14.5
         ]
        },
        {
         "line": {
          "color": "#469AF0",
          "width": 2
         },
         "mode": "lines+markers",
         "name": "mei",
         "type": "scatter",
         "visible": "legendonly",
         "x": [
          "Bronze",
          "Silver",
          "Gold",
          "Platinum",
          "Diamond",
          "Master",
          "Grandmaster"
         ],
         "y": [
          49.5,
          47.8,
          48.3,
          45.7,
          45.8,
          47.2,
          0
         ]
        },
        {
         "line": {
          "color": "#FAF2AD",
          "width": 2
         },
         "mode": "lines+markers",
         "name": "mercy",
         "type": "scatter",
         "visible": "legendonly",
         "x": [
          "Bronze",
          "Silver",
          "Gold",
          "Platinum",
          "Diamond",
          "Master",
          "Grandmaster"
         ],
         "y": [
          51,
          50.9,
          51.5,
          51.8,
          50.6,
          51.8,
          100
         ]
        },
        {
         "line": {
          "color": "#804BE5",
          "width": 2
         },
         "mode": "lines+markers",
         "name": "moira",
         "type": "scatter",
         "visible": "legendonly",
         "x": [
          "Bronze",
          "Silver",
          "Gold",
          "Platinum",
          "Diamond",
          "Master",
          "Grandmaster"
         ],
         "y": [
          48.8,
          47.5,
          45.8,
          44.4,
          45.4,
          41,
          0
         ]
        },
        {
         "line": {
          "color": "#106F04",
          "width": 2
         },
         "mode": "lines+markers",
         "name": "orisa",
         "type": "scatter",
         "visible": "legendonly",
         "x": [
          "Bronze",
          "Silver",
          "Gold",
          "Platinum",
          "Diamond",
          "Master",
          "Grandmaster"
         ],
         "y": [
          43.9,
          43.5,
          43.7,
          41.1,
          43,
          39.3,
          43.1
         ]
        },
        {
         "line": {
          "color": "#58BCFF",
          "width": 2
         },
         "mode": "lines+markers",
         "name": "pharah",
         "type": "scatter",
         "visible": "legendonly",
         "x": [
          "Bronze",
          "Silver",
          "Gold",
          "Platinum",
          "Diamond",
          "Master",
          "Grandmaster"
         ],
         "y": [
          49,
          49.7,
          50.6,
          50.5,
          49.9,
          41.7,
          44.3
         ]
        },
        {
         "line": {
          "color": "#7D55C7",
          "width": 2
         },
         "mode": "lines+markers",
         "name": "ramattra",
         "type": "scatter",
         "visible": "legendonly",
         "x": [
          "Bronze",
          "Silver",
          "Gold",
          "Platinum",
          "Diamond",
          "Master",
          "Grandmaster"
         ],
         "y": [
          52.9,
          48.9,
          46.3,
          44.8,
          44,
          45.5,
          55.1
         ]
        },
        {
         "line": {
          "color": "#5E001A",
          "width": 2
         },
         "mode": "lines+markers",
         "name": "reaper",
         "type": "scatter",
         "visible": "legendonly",
         "x": [
          "Bronze",
          "Silver",
          "Gold",
          "Platinum",
          "Diamond",
          "Master",
          "Grandmaster"
         ],
         "y": [
          56.2,
          52.2,
          52.4,
          51.6,
          53.8,
          52.3,
          55.6
         ]
        },
        {
         "line": {
          "color": "#7C8B8C",
          "width": 2
         },
         "mode": "lines+markers",
         "name": "reinhardt",
         "type": "scatter",
         "visible": "legendonly",
         "x": [
          "Bronze",
          "Silver",
          "Gold",
          "Platinum",
          "Diamond",
          "Master",
          "Grandmaster"
         ],
         "y": [
          56.8,
          57.2,
          55.9,
          53.2,
          52.5,
          55.7,
          0
         ]
        },
        {
         "line": {
          "color": "#AE6F1C",
          "width": 2
         },
         "mode": "lines+markers",
         "name": "roadhog",
         "type": "scatter",
         "visible": "legendonly",
         "x": [
          "Bronze",
          "Silver",
          "Gold",
          "Platinum",
          "Diamond",
          "Master",
          "Grandmaster"
         ],
         "y": [
          38.2,
          37.4,
          38.5,
          39.2,
          36.4,
          37.3,
          91.9
         ]
        },
        {
         "line": {
          "color": "#7C8B8C",
          "width": 2
         },
         "mode": "lines+markers",
         "name": "sigma",
         "type": "scatter",
         "visible": "legendonly",
         "x": [
          "Bronze",
          "Silver",
          "Gold",
          "Platinum",
          "Diamond",
          "Master",
          "Grandmaster"
         ],
         "y": [
          51.1,
          51.4,
          51,
          51.4,
          52,
          56.2,
          61.9
         ]
        },
        {
         "line": {
          "color": "#D73E2C",
          "width": 2
         },
         "mode": "lines+markers",
         "name": "sojourn",
         "type": "scatter",
         "visible": "legendonly",
         "x": [
          "Bronze",
          "Silver",
          "Gold",
          "Platinum",
          "Diamond",
          "Master",
          "Grandmaster"
         ],
         "y": [
          42.9,
          45.6,
          46,
          45.8,
          46.8,
          48.9,
          46.3
         ]
        },
        {
         "line": {
          "color": "#445275",
          "width": 2
         },
         "mode": "lines+markers",
         "name": "soldier-76",
         "type": "scatter",
         "visible": "legendonly",
         "x": [
          "Bronze",
          "Silver",
          "Gold",
          "Platinum",
          "Diamond",
          "Master",
          "Grandmaster"
         ],
         "y": [
          47.8,
          49.7,
          48.2,
          49.5,
          48.2,
          52,
          8.8
         ]
        },
        {
         "line": {
          "color": "#5128A9",
          "width": 2
         },
         "mode": "lines+markers",
         "name": "sombra",
         "type": "scatter",
         "visible": "legendonly",
         "x": [
          "Bronze",
          "Silver",
          "Gold",
          "Platinum",
          "Diamond",
          "Master",
          "Grandmaster"
         ],
         "y": [
          48.8,
          49.2,
          48,
          47,
          46.6,
          48.5,
          30.4
         ]
        },
        {
         "line": {
          "color": "#76B4C9",
          "width": 2
         },
         "mode": "lines+markers",
         "name": "symmetra",
         "type": "scatter",
         "visible": "legendonly",
         "x": [
          "Bronze",
          "Silver",
          "Gold",
          "Platinum",
          "Diamond",
          "Master",
          "Grandmaster"
         ],
         "y": [
          59.2,
          51.8,
          50.5,
          51.9,
          54.1,
          58.5,
          49.6
         ]
        },
        {
         "line": {
          "color": "#BA4C3F",
          "width": 2
         },
         "mode": "lines+markers",
         "name": "torbjorn",
         "type": "scatter",
         "visible": "legendonly",
         "x": [
          "Bronze",
          "Silver",
          "Gold",
          "Platinum",
          "Diamond",
          "Master",
          "Grandmaster"
         ],
         "y": [
          49.1,
          50.2,
          49.1,
          48.2,
          45.9,
          46.2,
          0
         ]
        },
        {
         "line": {
          "color": "#DE7A00",
          "width": 2
         },
         "mode": "lines+markers",
         "name": "tracer",
         "type": "scatter",
         "visible": "legendonly",
         "x": [
          "Bronze",
          "Silver",
          "Gold",
          "Platinum",
          "Diamond",
          "Master",
          "Grandmaster"
         ],
         "y": [
          55,
          50.1,
          51,
          53,
          53.9,
          53.9,
          51.9
         ]
        },
        {
         "line": {
          "color": "#79614E",
          "width": 2
         },
         "mode": "lines+markers",
         "name": "venture",
         "type": "scatter",
         "visible": "legendonly",
         "x": [
          "Bronze",
          "Silver",
          "Gold",
          "Platinum",
          "Diamond",
          "Master",
          "Grandmaster"
         ],
         "y": [
          57.4,
          54.3,
          52.6,
          51.5,
          53.1,
          48.1,
          61.7
         ]
        },
        {
         "line": {
          "color": "#8B3F8F",
          "width": 2
         },
         "mode": "lines+markers",
         "name": "widowmaker",
         "type": "scatter",
         "visible": "legendonly",
         "x": [
          "Bronze",
          "Silver",
          "Gold",
          "Platinum",
          "Diamond",
          "Master",
          "Grandmaster"
         ],
         "y": [
          46.2,
          45.2,
          49.2,
          49.4,
          49.8,
          41.9,
          10
         ]
        },
        {
         "line": {
          "color": "#8F92AE",
          "width": 2
         },
         "mode": "lines+markers",
         "name": "winston",
         "type": "scatter",
         "visible": "legendonly",
         "x": [
          "Bronze",
          "Silver",
          "Gold",
          "Platinum",
          "Diamond",
          "Master",
          "Grandmaster"
         ],
         "y": [
          51.8,
          48.8,
          50.6,
          50.2,
          48.8,
          49.4,
          68.7
         ]
        },
        {
         "line": {
          "color": "#E2790A",
          "width": 2
         },
         "mode": "lines+markers",
         "name": "wrecking-ball",
         "type": "scatter",
         "visible": "legendonly",
         "x": [
          "Bronze",
          "Silver",
          "Gold",
          "Platinum",
          "Diamond",
          "Master",
          "Grandmaster"
         ],
         "y": [
          64.8,
          53.2,
          55.8,
          59.9,
          55.3,
          60.9,
          33.9
         ]
        },
        {
         "line": {
          "color": "#4C7FEF",
          "width": 2
         },
         "mode": "lines+markers",
         "name": "wuyang",
         "type": "scatter",
         "visible": "legendonly",
         "x": [
          "Bronze",
          "Silver",
          "Gold",
          "Platinum",
          "Diamond",
          "Master",
          "Grandmaster"
         ],
         "y": [
          55,
          55.8,
          56.5,
          56.5,
          56.6,
          54.3,
          61.7
         ]
        },
        {
         "line": {
          "color": "#F65EA6",
          "width": 2
         },
         "mode": "lines+markers",
         "name": "zarya",
         "type": "scatter",
         "visible": "legendonly",
         "x": [
          "Bronze",
          "Silver",
          "Gold",
          "Platinum",
          "Diamond",
          "Master",
          "Grandmaster"
         ],
         "y": [
          54,
          53.8,
          48.8,
          48.5,
          48.6,
          56.5,
          75.3
         ]
        },
        {
         "line": {
          "color": "#FCEE5A",
          "width": 2
         },
         "mode": "lines+markers",
         "name": "zenyatta",
         "type": "scatter",
         "visible": "legendonly",
         "x": [
          "Bronze",
          "Silver",
          "Gold",
          "Platinum",
          "Diamond",
          "Master",
          "Grandmaster"
         ],
         "y": [
          53.9,
          51.3,
          52.3,
          52.2,
          50.3,
          53,
          35
         ]
        }
       ],
       "layout": {
        "height": 800,
        "legend": {
         "orientation": "h",
         "x": 0.5,
         "xanchor": "center",
         "y": -0.5,
         "yanchor": "bottom"
        },
        "template": {
         "data": {
          "bar": [
           {
            "error_x": {
             "color": "#2a3f5f"
            },
            "error_y": {
             "color": "#2a3f5f"
            },
            "marker": {
             "line": {
              "color": "white",
              "width": 0.5
             },
             "pattern": {
              "fillmode": "overlay",
              "size": 10,
              "solidity": 0.2
             }
            },
            "type": "bar"
           }
          ],
          "barpolar": [
           {
            "marker": {
             "line": {
              "color": "white",
              "width": 0.5
             },
             "pattern": {
              "fillmode": "overlay",
              "size": 10,
              "solidity": 0.2
             }
            },
            "type": "barpolar"
           }
          ],
          "carpet": [
           {
            "aaxis": {
             "endlinecolor": "#2a3f5f",
             "gridcolor": "#C8D4E3",
             "linecolor": "#C8D4E3",
             "minorgridcolor": "#C8D4E3",
             "startlinecolor": "#2a3f5f"
            },
            "baxis": {
             "endlinecolor": "#2a3f5f",
             "gridcolor": "#C8D4E3",
             "linecolor": "#C8D4E3",
             "minorgridcolor": "#C8D4E3",
             "startlinecolor": "#2a3f5f"
            },
            "type": "carpet"
           }
          ],
          "choropleth": [
           {
            "colorbar": {
             "outlinewidth": 0,
             "ticks": ""
            },
            "type": "choropleth"
           }
          ],
          "contour": [
           {
            "colorbar": {
             "outlinewidth": 0,
             "ticks": ""
            },
            "colorscale": [
             [
              0,
              "#0d0887"
             ],
             [
              0.1111111111111111,
              "#46039f"
             ],
             [
              0.2222222222222222,
              "#7201a8"
             ],
             [
              0.3333333333333333,
              "#9c179e"
             ],
             [
              0.4444444444444444,
              "#bd3786"
             ],
             [
              0.5555555555555556,
              "#d8576b"
             ],
             [
              0.6666666666666666,
              "#ed7953"
             ],
             [
              0.7777777777777778,
              "#fb9f3a"
             ],
             [
              0.8888888888888888,
              "#fdca26"
             ],
             [
              1,
              "#f0f921"
             ]
            ],
            "type": "contour"
           }
          ],
          "contourcarpet": [
           {
            "colorbar": {
             "outlinewidth": 0,
             "ticks": ""
            },
            "type": "contourcarpet"
           }
          ],
          "heatmap": [
           {
            "colorbar": {
             "outlinewidth": 0,
             "ticks": ""
            },
            "colorscale": [
             [
              0,
              "#0d0887"
             ],
             [
              0.1111111111111111,
              "#46039f"
             ],
             [
              0.2222222222222222,
              "#7201a8"
             ],
             [
              0.3333333333333333,
              "#9c179e"
             ],
             [
              0.4444444444444444,
              "#bd3786"
             ],
             [
              0.5555555555555556,
              "#d8576b"
             ],
             [
              0.6666666666666666,
              "#ed7953"
             ],
             [
              0.7777777777777778,
              "#fb9f3a"
             ],
             [
              0.8888888888888888,
              "#fdca26"
             ],
             [
              1,
              "#f0f921"
             ]
            ],
            "type": "heatmap"
           }
          ],
          "histogram": [
           {
            "marker": {
             "pattern": {
              "fillmode": "overlay",
              "size": 10,
              "solidity": 0.2
             }
            },
            "type": "histogram"
           }
          ],
          "histogram2d": [
           {
            "colorbar": {
             "outlinewidth": 0,
             "ticks": ""
            },
            "colorscale": [
             [
              0,
              "#0d0887"
             ],
             [
              0.1111111111111111,
              "#46039f"
             ],
             [
              0.2222222222222222,
              "#7201a8"
             ],
             [
              0.3333333333333333,
              "#9c179e"
             ],
             [
              0.4444444444444444,
              "#bd3786"
             ],
             [
              0.5555555555555556,
              "#d8576b"
             ],
             [
              0.6666666666666666,
              "#ed7953"
             ],
             [
              0.7777777777777778,
              "#fb9f3a"
             ],
             [
              0.8888888888888888,
              "#fdca26"
             ],
             [
              1,
              "#f0f921"
             ]
            ],
            "type": "histogram2d"
           }
          ],
          "histogram2dcontour": [
           {
            "colorbar": {
             "outlinewidth": 0,
             "ticks": ""
            },
            "colorscale": [
             [
              0,
              "#0d0887"
             ],
             [
              0.1111111111111111,
              "#46039f"
             ],
             [
              0.2222222222222222,
              "#7201a8"
             ],
             [
              0.3333333333333333,
              "#9c179e"
             ],
             [
              0.4444444444444444,
              "#bd3786"
             ],
             [
              0.5555555555555556,
              "#d8576b"
             ],
             [
              0.6666666666666666,
              "#ed7953"
             ],
             [
              0.7777777777777778,
              "#fb9f3a"
             ],
             [
              0.8888888888888888,
              "#fdca26"
             ],
             [
              1,
              "#f0f921"
             ]
            ],
            "type": "histogram2dcontour"
           }
          ],
          "mesh3d": [
           {
            "colorbar": {
             "outlinewidth": 0,
             "ticks": ""
            },
            "type": "mesh3d"
           }
          ],
          "parcoords": [
           {
            "line": {
             "colorbar": {
              "outlinewidth": 0,
              "ticks": ""
             }
            },
            "type": "parcoords"
           }
          ],
          "pie": [
           {
            "automargin": true,
            "type": "pie"
           }
          ],
          "scatter": [
           {
            "fillpattern": {
             "fillmode": "overlay",
             "size": 10,
             "solidity": 0.2
            },
            "type": "scatter"
           }
          ],
          "scatter3d": [
           {
            "line": {
             "colorbar": {
              "outlinewidth": 0,
              "ticks": ""
             }
            },
            "marker": {
             "colorbar": {
              "outlinewidth": 0,
              "ticks": ""
             }
            },
            "type": "scatter3d"
           }
          ],
          "scattercarpet": [
           {
            "marker": {
             "colorbar": {
              "outlinewidth": 0,
              "ticks": ""
             }
            },
            "type": "scattercarpet"
           }
          ],
          "scattergeo": [
           {
            "marker": {
             "colorbar": {
              "outlinewidth": 0,
              "ticks": ""
             }
            },
            "type": "scattergeo"
           }
          ],
          "scattergl": [
           {
            "marker": {
             "colorbar": {
              "outlinewidth": 0,
              "ticks": ""
             }
            },
            "type": "scattergl"
           }
          ],
          "scattermap": [
           {
            "marker": {
             "colorbar": {
              "outlinewidth": 0,
              "ticks": ""
             }
            },
            "type": "scattermap"
           }
          ],
          "scattermapbox": [
           {
            "marker": {
             "colorbar": {
              "outlinewidth": 0,
              "ticks": ""
             }
            },
            "type": "scattermapbox"
           }
          ],
          "scatterpolar": [
           {
            "marker": {
             "colorbar": {
              "outlinewidth": 0,
              "ticks": ""
             }
            },
            "type": "scatterpolar"
           }
          ],
          "scatterpolargl": [
           {
            "marker": {
             "colorbar": {
              "outlinewidth": 0,
              "ticks": ""
             }
            },
            "type": "scatterpolargl"
           }
          ],
          "scatterternary": [
           {
            "marker": {
             "colorbar": {
              "outlinewidth": 0,
              "ticks": ""
             }
            },
            "type": "scatterternary"
           }
          ],
          "surface": [
           {
            "colorbar": {
             "outlinewidth": 0,
             "ticks": ""
            },
            "colorscale": [
             [
              0,
              "#0d0887"
             ],
             [
              0.1111111111111111,
              "#46039f"
             ],
             [
              0.2222222222222222,
              "#7201a8"
             ],
             [
              0.3333333333333333,
              "#9c179e"
             ],
             [
              0.4444444444444444,
              "#bd3786"
             ],
             [
              0.5555555555555556,
              "#d8576b"
             ],
             [
              0.6666666666666666,
              "#ed7953"
             ],
             [
              0.7777777777777778,
              "#fb9f3a"
             ],
             [
              0.8888888888888888,
              "#fdca26"
             ],
             [
              1,
              "#f0f921"
             ]
            ],
            "type": "surface"
           }
          ],
          "table": [
           {
            "cells": {
             "fill": {
              "color": "#EBF0F8"
             },
             "line": {
              "color": "white"
             }
            },
            "header": {
             "fill": {
              "color": "#C8D4E3"
             },
             "line": {
              "color": "white"
             }
            },
            "type": "table"
           }
          ]
         },
         "layout": {
          "annotationdefaults": {
           "arrowcolor": "#2a3f5f",
           "arrowhead": 0,
           "arrowwidth": 1
          },
          "autotypenumbers": "strict",
          "coloraxis": {
           "colorbar": {
            "outlinewidth": 0,
            "ticks": ""
           }
          },
          "colorscale": {
           "diverging": [
            [
             0,
             "#8e0152"
            ],
            [
             0.1,
             "#c51b7d"
            ],
            [
             0.2,
             "#de77ae"
            ],
            [
             0.3,
             "#f1b6da"
            ],
            [
             0.4,
             "#fde0ef"
            ],
            [
             0.5,
             "#f7f7f7"
            ],
            [
             0.6,
             "#e6f5d0"
            ],
            [
             0.7,
             "#b8e186"
            ],
            [
             0.8,
             "#7fbc41"
            ],
            [
             0.9,
             "#4d9221"
            ],
            [
             1,
             "#276419"
            ]
           ],
           "sequential": [
            [
             0,
             "#0d0887"
            ],
            [
             0.1111111111111111,
             "#46039f"
            ],
            [
             0.2222222222222222,
             "#7201a8"
            ],
            [
             0.3333333333333333,
             "#9c179e"
            ],
            [
             0.4444444444444444,
             "#bd3786"
            ],
            [
             0.5555555555555556,
             "#d8576b"
            ],
            [
             0.6666666666666666,
             "#ed7953"
            ],
            [
             0.7777777777777778,
             "#fb9f3a"
            ],
            [
             0.8888888888888888,
             "#fdca26"
            ],
            [
             1,
             "#f0f921"
            ]
           ],
           "sequentialminus": [
            [
             0,
             "#0d0887"
            ],
            [
             0.1111111111111111,
             "#46039f"
            ],
            [
             0.2222222222222222,
             "#7201a8"
            ],
            [
             0.3333333333333333,
             "#9c179e"
            ],
            [
             0.4444444444444444,
             "#bd3786"
            ],
            [
             0.5555555555555556,
             "#d8576b"
            ],
            [
             0.6666666666666666,
             "#ed7953"
            ],
            [
             0.7777777777777778,
             "#fb9f3a"
            ],
            [
             0.8888888888888888,
             "#fdca26"
            ],
            [
             1,
             "#f0f921"
            ]
           ]
          },
          "colorway": [
           "#636efa",
           "#EF553B",
           "#00cc96",
           "#ab63fa",
           "#FFA15A",
           "#19d3f3",
           "#FF6692",
           "#B6E880",
           "#FF97FF",
           "#FECB52"
          ],
          "font": {
           "color": "#2a3f5f"
          },
          "geo": {
           "bgcolor": "white",
           "lakecolor": "white",
           "landcolor": "white",
           "showlakes": true,
           "showland": true,
           "subunitcolor": "#C8D4E3"
          },
          "hoverlabel": {
           "align": "left"
          },
          "hovermode": "closest",
          "mapbox": {
           "style": "light"
          },
          "paper_bgcolor": "white",
          "plot_bgcolor": "white",
          "polar": {
           "angularaxis": {
            "gridcolor": "#EBF0F8",
            "linecolor": "#EBF0F8",
            "ticks": ""
           },
           "bgcolor": "white",
           "radialaxis": {
            "gridcolor": "#EBF0F8",
            "linecolor": "#EBF0F8",
            "ticks": ""
           }
          },
          "scene": {
           "xaxis": {
            "backgroundcolor": "white",
            "gridcolor": "#DFE8F3",
            "gridwidth": 2,
            "linecolor": "#EBF0F8",
            "showbackground": true,
            "ticks": "",
            "zerolinecolor": "#EBF0F8"
           },
           "yaxis": {
            "backgroundcolor": "white",
            "gridcolor": "#DFE8F3",
            "gridwidth": 2,
            "linecolor": "#EBF0F8",
            "showbackground": true,
            "ticks": "",
            "zerolinecolor": "#EBF0F8"
           },
           "zaxis": {
            "backgroundcolor": "white",
            "gridcolor": "#DFE8F3",
            "gridwidth": 2,
            "linecolor": "#EBF0F8",
            "showbackground": true,
            "ticks": "",
            "zerolinecolor": "#EBF0F8"
           }
          },
          "shapedefaults": {
           "line": {
            "color": "#2a3f5f"
           }
          },
          "ternary": {
           "aaxis": {
            "gridcolor": "#DFE8F3",
            "linecolor": "#A2B1C6",
            "ticks": ""
           },
           "baxis": {
            "gridcolor": "#DFE8F3",
            "linecolor": "#A2B1C6",
            "ticks": ""
           },
           "bgcolor": "white",
           "caxis": {
            "gridcolor": "#DFE8F3",
            "linecolor": "#A2B1C6",
            "ticks": ""
           }
          },
          "title": {
           "x": 0.05
          },
          "xaxis": {
           "automargin": true,
           "gridcolor": "#EBF0F8",
           "linecolor": "#EBF0F8",
           "ticks": "",
           "title": {
            "standoff": 15
           },
           "zerolinecolor": "#EBF0F8",
           "zerolinewidth": 2
          },
          "yaxis": {
           "automargin": true,
           "gridcolor": "#EBF0F8",
           "linecolor": "#EBF0F8",
           "ticks": "",
           "title": {
            "standoff": 15
           },
           "zerolinecolor": "#EBF0F8",
           "zerolinewidth": 2
          }
         }
        },
        "title": {
         "text": "Comparison of Hero Winrates Across Tiers"
        },
        "width": 1200,
        "xaxis": {
         "title": {
          "text": "Tier"
         }
        },
        "yaxis": {
         "range": [
          20,
          80
         ],
         "title": {
          "text": "Winrate"
         }
        }
       }
      }
     },
     "metadata": {},
     "output_type": "display_data"
    }
   ],
   "source": [
    "# Get the list of heroes and tiers\n",
    "heroes = list(winrate_per_tier.keys())\n",
    "tiers = [tier for tier in TIERS if tier != \"All\"]  # Exclude \"All\" for better visualization\n",
    "\n",
    "# Create a figure\n",
    "import plotly.graph_objects as go\n",
    "from plotly.subplots import make_subplots\n",
    "import math\n",
    "\n",
    "# Calculate grid dimensions for subplots\n",
    "n_heroes = len(heroes)\n",
    "n_cols = 3  # You can adjust this\n",
    "n_rows = math.ceil(n_heroes / n_cols)\n",
    "\n",
    "# Create subplots\n",
    "fig = make_subplots(rows=n_rows, cols=n_cols, subplot_titles=heroes)\n",
    "\n",
    "# Add traces for each hero\n",
    "for i, hero in enumerate(heroes):\n",
    "    row = i // n_cols + 1\n",
    "    col = i % n_cols + 1\n",
    "    \n",
    "    # Extract winrates for this hero across tiers\n",
    "    winrates = []\n",
    "    tier_indices = []\n",
    "    \n",
    "    # Get hero color - use the first available tier's color\n",
    "    hero_color = None\n",
    "    for tier in tiers:\n",
    "        if tier in winrate_per_tier[hero]:\n",
    "            hero_color = winrate_per_tier[hero][tier][\"hero_color\"]\n",
    "            # Remove the alpha channel if present (last two characters in hex color)\n",
    "            if hero_color and len(hero_color) == 9:  # Format: #RRGGBBAA\n",
    "                hero_color = hero_color[:7]  # Keep only #RRGGBB\n",
    "            break\n",
    "    \n",
    "    for idx, tier in enumerate(tiers):\n",
    "        if tier in winrate_per_tier[hero]:\n",
    "            winrates.append(winrate_per_tier[hero][tier][\"winrate\"])\n",
    "            tier_indices.append(idx)  # Use indices for x-values\n",
    "        else:\n",
    "            print(f\"Error: Tier {tier} not found for hero {hero}\")\n",
    "            # Skip missing data points instead of adding None\n",
    "\n",
    "    # Add trace to the appropriate subplot\n",
    "    fig.add_trace(\n",
    "        go.Scatter(\n",
    "            x=tier_indices,  # Use indices for x-values to match tickvals\n",
    "            y=winrates,\n",
    "            mode='lines+markers',\n",
    "            name=hero,\n",
    "            showlegend=False,\n",
    "            line=dict(width=2, color=hero_color),  # Use hero color for the line\n",
    "            marker=dict(color=hero_color),  # Use hero color for markers\n",
    "            connectgaps=True     # Connect gaps caused by None values\n",
    "        ),\n",
    "        row=row, col=col\n",
    "    )\n",
    "for i in range(n_heroes):\n",
    "    row = i // n_cols + 1\n",
    "    col = i % n_cols + 1\n",
    "    # Update x-axis to show tier names\n",
    "    fig.update_xaxes(tickvals=list(range(len(tiers))), ticktext=tiers, row=row, col=col)\n",
    "    \n",
    "    # Update y-axis range to focus on relevant winrate range (e.g., 20-80%)\n",
    "    fig.update_yaxes(range=[20, 80], row=row, col=col)\n",
    "\n",
    "# Update layout\n",
    "fig.update_layout(\n",
    "    title_text=\"Winrate by Tier for Each Hero\",\n",
    "    height=300 * n_rows,  # Adjust height based on number of rows\n",
    "    width=1200,\n",
    "    template=\"plotly_white\"\n",
    ")\n",
    "\n",
    "# Show the figure\n",
    "fig.show()\n",
    "\n",
    "# Create a single plot with all heroes for comparison\n",
    "fig_combined = go.Figure()\n",
    "\n",
    "# Add a trace for each hero\n",
    "for hero in heroes:\n",
    "    winrates = []\n",
    "    hero_color = None\n",
    "    for tier in tiers:\n",
    "        if tier in winrate_per_tier[hero]:\n",
    "            winrates.append(winrate_per_tier[hero][tier][\"winrate\"])\n",
    "            hero_color = winrate_per_tier[hero][tier][\"hero_color\"]\n",
    "        else:\n",
    "            winrates.append(None)\n",
    "    \n",
    "    fig_combined.add_trace(\n",
    "        go.Scatter(\n",
    "            x=tiers,\n",
    "            y=winrates,\n",
    "            mode='lines+markers',\n",
    "            name=hero,\n",
    "            line=dict(width=2, color=hero_color),  # Use hero color for the line\n",
    "            visible=\"legendonly\" if hero != heroes[0] else True\n",
    "        )\n",
    "    )\n",
    "\n",
    "# Update layout\n",
    "fig_combined.update_layout(\n",
    "    title=\"Comparison of Hero Winrates Across Tiers\",\n",
    "    xaxis_title=\"Tier\",\n",
    "    yaxis_title=\"Winrate\",\n",
    "    height=800,\n",
    "    width=1200,\n",
    "    template=\"plotly_white\",\n",
    "    legend=dict(\n",
    "        orientation=\"h\",\n",
    "        yanchor=\"bottom\",\n",
    "        y=-0.5,\n",
    "        xanchor=\"center\",\n",
    "        x=0.5\n",
    "    ),\n",
    "    yaxis_range=[20, 80]\n",
    ")\n",
    "\n",
    "# Show the figure\n",
    "fig_combined.show()\n"
   ]
  },
  {
   "cell_type": "code",
   "execution_count": null,
   "id": "d7d8528b",
   "metadata": {},
   "outputs": [],
   "source": []
  }
 ],
 "metadata": {
  "kernelspec": {
   "display_name": ".venv",
   "language": "python",
   "name": "python3"
  },
  "language_info": {
   "codemirror_mode": {
    "name": "ipython",
    "version": 3
   },
   "file_extension": ".py",
   "mimetype": "text/x-python",
   "name": "python",
   "nbconvert_exporter": "python",
   "pygments_lexer": "ipython3",
   "version": "3.8.10"
  }
 },
 "nbformat": 4,
 "nbformat_minor": 5
}
